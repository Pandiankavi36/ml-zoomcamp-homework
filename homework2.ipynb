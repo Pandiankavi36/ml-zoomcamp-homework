{
 "cells": [
  {
   "cell_type": "code",
   "execution_count": 1,
   "id": "bc441943-b577-439c-acbb-cd4ad9411ffa",
   "metadata": {},
   "outputs": [],
   "source": [
    "import pandas as pd\n",
    "import numpy as np\n",
    "\n",
    "car_fuel_efficiency =  'https://raw.githubusercontent.com/alexeygrigorev/datasets/master/car_fuel_efficiency.csv'"
   ]
  },
  {
   "cell_type": "code",
   "execution_count": 3,
   "id": "bbabf3d6-fef6-4de6-91ef-d5cdb604a710",
   "metadata": {},
   "outputs": [
    {
     "name": "stdout",
     "output_type": "stream",
     "text": [
      "--2025-10-08 02:49:58--  https://raw.githubusercontent.com/alexeygrigorev/datasets/master/car_fuel_efficiency.csv\n",
      "Resolving raw.githubusercontent.com (raw.githubusercontent.com)... 185.199.109.133, 185.199.111.133, 185.199.108.133, ...\n",
      "Connecting to raw.githubusercontent.com (raw.githubusercontent.com)|185.199.109.133|:443... connected.\n",
      "HTTP request sent, awaiting response... 200 OK\n",
      "Length: 874188 (854K) [text/plain]\n",
      "Saving to: ‘car_fuel_efficiency.csv’\n",
      "\n",
      "car_fuel_efficiency 100%[===================>] 853.70K  --.-KB/s    in 0.04s   \n",
      "\n",
      "2025-10-08 02:49:58 (23.6 MB/s) - ‘car_fuel_efficiency.csv’ saved [874188/874188]\n",
      "\n"
     ]
    }
   ],
   "source": [
    "!wget $car_fuel_efficiency"
   ]
  },
  {
   "cell_type": "code",
   "execution_count": 2,
   "id": "4da0402e-d467-47f6-a4e4-c3025069af6c",
   "metadata": {},
   "outputs": [],
   "source": [
    "df = pd.read_csv('car_fuel_efficiency.csv')"
   ]
  },
  {
   "cell_type": "code",
   "execution_count": 3,
   "id": "83c71e8c-5db8-422a-b623-8829bf9aa7e5",
   "metadata": {},
   "outputs": [
    {
     "data": {
      "text/plain": [
       "9704"
      ]
     },
     "execution_count": 3,
     "metadata": {},
     "output_type": "execute_result"
    }
   ],
   "source": [
    "len(df)"
   ]
  },
  {
   "cell_type": "code",
   "execution_count": 7,
   "id": "28e34348-bb0b-4760-ae00-ccc666cce73a",
   "metadata": {},
   "outputs": [
    {
     "data": {
      "text/plain": [
       "Index(['engine_displacement', 'num_cylinders', 'horsepower', 'vehicle_weight',\n",
       "       'acceleration', 'model_year', 'origin', 'fuel_type', 'drivetrain',\n",
       "       'num_doors', 'fuel_efficiency_mpg'],\n",
       "      dtype='object')"
      ]
     },
     "execution_count": 7,
     "metadata": {},
     "output_type": "execute_result"
    }
   ],
   "source": [
    "df.columns"
   ]
  },
  {
   "cell_type": "code",
   "execution_count": 9,
   "id": "14e689ae-84f0-41cb-8b15-2849e6d18c91",
   "metadata": {},
   "outputs": [
    {
     "name": "stdout",
     "output_type": "stream",
     "text": [
      "(9704, 11)\n"
     ]
    }
   ],
   "source": [
    "print(df.shape)"
   ]
  },
  {
   "cell_type": "code",
   "execution_count": 10,
   "id": "6d6c89ab-2b85-4742-9ab0-f1514544974e",
   "metadata": {},
   "outputs": [
    {
     "data": {
      "text/html": [
       "<div>\n",
       "<style scoped>\n",
       "    .dataframe tbody tr th:only-of-type {\n",
       "        vertical-align: middle;\n",
       "    }\n",
       "\n",
       "    .dataframe tbody tr th {\n",
       "        vertical-align: top;\n",
       "    }\n",
       "\n",
       "    .dataframe thead th {\n",
       "        text-align: right;\n",
       "    }\n",
       "</style>\n",
       "<table border=\"1\" class=\"dataframe\">\n",
       "  <thead>\n",
       "    <tr style=\"text-align: right;\">\n",
       "      <th></th>\n",
       "      <th>engine_displacement</th>\n",
       "      <th>num_cylinders</th>\n",
       "      <th>horsepower</th>\n",
       "      <th>vehicle_weight</th>\n",
       "      <th>acceleration</th>\n",
       "      <th>model_year</th>\n",
       "      <th>origin</th>\n",
       "      <th>fuel_type</th>\n",
       "      <th>drivetrain</th>\n",
       "      <th>num_doors</th>\n",
       "      <th>fuel_efficiency_mpg</th>\n",
       "    </tr>\n",
       "  </thead>\n",
       "  <tbody>\n",
       "    <tr>\n",
       "      <th>0</th>\n",
       "      <td>170</td>\n",
       "      <td>3.0</td>\n",
       "      <td>159.0</td>\n",
       "      <td>3413.433759</td>\n",
       "      <td>17.7</td>\n",
       "      <td>2003</td>\n",
       "      <td>Europe</td>\n",
       "      <td>Gasoline</td>\n",
       "      <td>All-wheel drive</td>\n",
       "      <td>0.0</td>\n",
       "      <td>13.231729</td>\n",
       "    </tr>\n",
       "    <tr>\n",
       "      <th>1</th>\n",
       "      <td>130</td>\n",
       "      <td>5.0</td>\n",
       "      <td>97.0</td>\n",
       "      <td>3149.664934</td>\n",
       "      <td>17.8</td>\n",
       "      <td>2007</td>\n",
       "      <td>USA</td>\n",
       "      <td>Gasoline</td>\n",
       "      <td>Front-wheel drive</td>\n",
       "      <td>0.0</td>\n",
       "      <td>13.688217</td>\n",
       "    </tr>\n",
       "    <tr>\n",
       "      <th>2</th>\n",
       "      <td>170</td>\n",
       "      <td>NaN</td>\n",
       "      <td>78.0</td>\n",
       "      <td>3079.038997</td>\n",
       "      <td>15.1</td>\n",
       "      <td>2018</td>\n",
       "      <td>Europe</td>\n",
       "      <td>Gasoline</td>\n",
       "      <td>Front-wheel drive</td>\n",
       "      <td>0.0</td>\n",
       "      <td>14.246341</td>\n",
       "    </tr>\n",
       "    <tr>\n",
       "      <th>3</th>\n",
       "      <td>220</td>\n",
       "      <td>4.0</td>\n",
       "      <td>NaN</td>\n",
       "      <td>2542.392402</td>\n",
       "      <td>20.2</td>\n",
       "      <td>2009</td>\n",
       "      <td>USA</td>\n",
       "      <td>Diesel</td>\n",
       "      <td>All-wheel drive</td>\n",
       "      <td>2.0</td>\n",
       "      <td>16.912736</td>\n",
       "    </tr>\n",
       "    <tr>\n",
       "      <th>4</th>\n",
       "      <td>210</td>\n",
       "      <td>1.0</td>\n",
       "      <td>140.0</td>\n",
       "      <td>3460.870990</td>\n",
       "      <td>14.4</td>\n",
       "      <td>2009</td>\n",
       "      <td>Europe</td>\n",
       "      <td>Gasoline</td>\n",
       "      <td>All-wheel drive</td>\n",
       "      <td>2.0</td>\n",
       "      <td>12.488369</td>\n",
       "    </tr>\n",
       "    <tr>\n",
       "      <th>...</th>\n",
       "      <td>...</td>\n",
       "      <td>...</td>\n",
       "      <td>...</td>\n",
       "      <td>...</td>\n",
       "      <td>...</td>\n",
       "      <td>...</td>\n",
       "      <td>...</td>\n",
       "      <td>...</td>\n",
       "      <td>...</td>\n",
       "      <td>...</td>\n",
       "      <td>...</td>\n",
       "    </tr>\n",
       "    <tr>\n",
       "      <th>9699</th>\n",
       "      <td>140</td>\n",
       "      <td>5.0</td>\n",
       "      <td>164.0</td>\n",
       "      <td>2981.107371</td>\n",
       "      <td>17.3</td>\n",
       "      <td>2013</td>\n",
       "      <td>Europe</td>\n",
       "      <td>Diesel</td>\n",
       "      <td>Front-wheel drive</td>\n",
       "      <td>NaN</td>\n",
       "      <td>15.101802</td>\n",
       "    </tr>\n",
       "    <tr>\n",
       "      <th>9700</th>\n",
       "      <td>180</td>\n",
       "      <td>NaN</td>\n",
       "      <td>154.0</td>\n",
       "      <td>2439.525729</td>\n",
       "      <td>15.0</td>\n",
       "      <td>2004</td>\n",
       "      <td>USA</td>\n",
       "      <td>Gasoline</td>\n",
       "      <td>All-wheel drive</td>\n",
       "      <td>0.0</td>\n",
       "      <td>17.962326</td>\n",
       "    </tr>\n",
       "    <tr>\n",
       "      <th>9701</th>\n",
       "      <td>220</td>\n",
       "      <td>2.0</td>\n",
       "      <td>138.0</td>\n",
       "      <td>2583.471318</td>\n",
       "      <td>15.1</td>\n",
       "      <td>2008</td>\n",
       "      <td>USA</td>\n",
       "      <td>Diesel</td>\n",
       "      <td>All-wheel drive</td>\n",
       "      <td>-1.0</td>\n",
       "      <td>17.186587</td>\n",
       "    </tr>\n",
       "    <tr>\n",
       "      <th>9702</th>\n",
       "      <td>230</td>\n",
       "      <td>4.0</td>\n",
       "      <td>177.0</td>\n",
       "      <td>2905.527390</td>\n",
       "      <td>19.4</td>\n",
       "      <td>2011</td>\n",
       "      <td>USA</td>\n",
       "      <td>Diesel</td>\n",
       "      <td>Front-wheel drive</td>\n",
       "      <td>1.0</td>\n",
       "      <td>15.331551</td>\n",
       "    </tr>\n",
       "    <tr>\n",
       "      <th>9703</th>\n",
       "      <td>270</td>\n",
       "      <td>3.0</td>\n",
       "      <td>140.0</td>\n",
       "      <td>2908.043477</td>\n",
       "      <td>14.7</td>\n",
       "      <td>2005</td>\n",
       "      <td>Asia</td>\n",
       "      <td>Diesel</td>\n",
       "      <td>All-wheel drive</td>\n",
       "      <td>-1.0</td>\n",
       "      <td>14.884467</td>\n",
       "    </tr>\n",
       "  </tbody>\n",
       "</table>\n",
       "<p>9704 rows × 11 columns</p>\n",
       "</div>"
      ],
      "text/plain": [
       "      engine_displacement  num_cylinders  horsepower  vehicle_weight  \\\n",
       "0                     170            3.0       159.0     3413.433759   \n",
       "1                     130            5.0        97.0     3149.664934   \n",
       "2                     170            NaN        78.0     3079.038997   \n",
       "3                     220            4.0         NaN     2542.392402   \n",
       "4                     210            1.0       140.0     3460.870990   \n",
       "...                   ...            ...         ...             ...   \n",
       "9699                  140            5.0       164.0     2981.107371   \n",
       "9700                  180            NaN       154.0     2439.525729   \n",
       "9701                  220            2.0       138.0     2583.471318   \n",
       "9702                  230            4.0       177.0     2905.527390   \n",
       "9703                  270            3.0       140.0     2908.043477   \n",
       "\n",
       "      acceleration  model_year  origin fuel_type         drivetrain  \\\n",
       "0             17.7        2003  Europe  Gasoline    All-wheel drive   \n",
       "1             17.8        2007     USA  Gasoline  Front-wheel drive   \n",
       "2             15.1        2018  Europe  Gasoline  Front-wheel drive   \n",
       "3             20.2        2009     USA    Diesel    All-wheel drive   \n",
       "4             14.4        2009  Europe  Gasoline    All-wheel drive   \n",
       "...            ...         ...     ...       ...                ...   \n",
       "9699          17.3        2013  Europe    Diesel  Front-wheel drive   \n",
       "9700          15.0        2004     USA  Gasoline    All-wheel drive   \n",
       "9701          15.1        2008     USA    Diesel    All-wheel drive   \n",
       "9702          19.4        2011     USA    Diesel  Front-wheel drive   \n",
       "9703          14.7        2005    Asia    Diesel    All-wheel drive   \n",
       "\n",
       "      num_doors  fuel_efficiency_mpg  \n",
       "0           0.0            13.231729  \n",
       "1           0.0            13.688217  \n",
       "2           0.0            14.246341  \n",
       "3           2.0            16.912736  \n",
       "4           2.0            12.488369  \n",
       "...         ...                  ...  \n",
       "9699        NaN            15.101802  \n",
       "9700        0.0            17.962326  \n",
       "9701       -1.0            17.186587  \n",
       "9702        1.0            15.331551  \n",
       "9703       -1.0            14.884467  \n",
       "\n",
       "[9704 rows x 11 columns]"
      ]
     },
     "execution_count": 10,
     "metadata": {},
     "output_type": "execute_result"
    }
   ],
   "source": [
    "df"
   ]
  },
  {
   "cell_type": "code",
   "execution_count": 8,
   "id": "a1e68e49-5236-45da-970e-c1e9d439cd94",
   "metadata": {},
   "outputs": [
    {
     "data": {
      "text/plain": [
       "0       13.231729\n",
       "1       13.688217\n",
       "2       14.246341\n",
       "3       16.912736\n",
       "4       12.488369\n",
       "          ...    \n",
       "9699    15.101802\n",
       "9700    17.962326\n",
       "9701    17.186587\n",
       "9702    15.331551\n",
       "9703    14.884467\n",
       "Name: fuel_efficiency_mpg, Length: 9704, dtype: float64"
      ]
     },
     "execution_count": 8,
     "metadata": {},
     "output_type": "execute_result"
    }
   ],
   "source": [
    "df['fuel_efficiency_mpg']"
   ]
  },
  {
   "cell_type": "code",
   "execution_count": 11,
   "id": "25cfd993-0bc9-4573-be64-e549a42f5807",
   "metadata": {},
   "outputs": [],
   "source": [
    "column_names = ['engine_displacement',  'horsepower', 'vehicle_weight',\n",
    "                 'model_year', 'fuel_efficiency_mpg']"
   ]
  },
  {
   "cell_type": "code",
   "execution_count": 35,
   "id": "24503472-babc-4e1a-b6c2-b57b058feb67",
   "metadata": {},
   "outputs": [],
   "source": [
    "df_subset = df[column_names]"
   ]
  },
  {
   "cell_type": "code",
   "execution_count": 121,
   "id": "5cf6b6b6-1a33-47fc-86fa-33044174127f",
   "metadata": {},
   "outputs": [
    {
     "data": {
      "text/plain": [
       "engine_displacement      0\n",
       "horsepower             708\n",
       "vehicle_weight           0\n",
       "model_year               0\n",
       "fuel_efficiency_mpg      0\n",
       "dtype: int64"
      ]
     },
     "execution_count": 121,
     "metadata": {},
     "output_type": "execute_result"
    }
   ],
   "source": [
    "df_subset.isnull().sum()"
   ]
  },
  {
   "cell_type": "code",
   "execution_count": 37,
   "id": "e639340e-cb50-446f-a736-f4b3ad510203",
   "metadata": {},
   "outputs": [
    {
     "data": {
      "text/html": [
       "<div>\n",
       "<style scoped>\n",
       "    .dataframe tbody tr th:only-of-type {\n",
       "        vertical-align: middle;\n",
       "    }\n",
       "\n",
       "    .dataframe tbody tr th {\n",
       "        vertical-align: top;\n",
       "    }\n",
       "\n",
       "    .dataframe thead th {\n",
       "        text-align: right;\n",
       "    }\n",
       "</style>\n",
       "<table border=\"1\" class=\"dataframe\">\n",
       "  <thead>\n",
       "    <tr style=\"text-align: right;\">\n",
       "      <th></th>\n",
       "      <th>engine_displacement</th>\n",
       "      <th>horsepower</th>\n",
       "      <th>vehicle_weight</th>\n",
       "      <th>model_year</th>\n",
       "      <th>fuel_efficiency_mpg</th>\n",
       "    </tr>\n",
       "  </thead>\n",
       "  <tbody>\n",
       "    <tr>\n",
       "      <th>0</th>\n",
       "      <td>170</td>\n",
       "      <td>159.0</td>\n",
       "      <td>3413.433759</td>\n",
       "      <td>2003</td>\n",
       "      <td>13.231729</td>\n",
       "    </tr>\n",
       "    <tr>\n",
       "      <th>1</th>\n",
       "      <td>130</td>\n",
       "      <td>97.0</td>\n",
       "      <td>3149.664934</td>\n",
       "      <td>2007</td>\n",
       "      <td>13.688217</td>\n",
       "    </tr>\n",
       "    <tr>\n",
       "      <th>2</th>\n",
       "      <td>170</td>\n",
       "      <td>78.0</td>\n",
       "      <td>3079.038997</td>\n",
       "      <td>2018</td>\n",
       "      <td>14.246341</td>\n",
       "    </tr>\n",
       "    <tr>\n",
       "      <th>3</th>\n",
       "      <td>220</td>\n",
       "      <td>NaN</td>\n",
       "      <td>2542.392402</td>\n",
       "      <td>2009</td>\n",
       "      <td>16.912736</td>\n",
       "    </tr>\n",
       "    <tr>\n",
       "      <th>4</th>\n",
       "      <td>210</td>\n",
       "      <td>140.0</td>\n",
       "      <td>3460.870990</td>\n",
       "      <td>2009</td>\n",
       "      <td>12.488369</td>\n",
       "    </tr>\n",
       "    <tr>\n",
       "      <th>...</th>\n",
       "      <td>...</td>\n",
       "      <td>...</td>\n",
       "      <td>...</td>\n",
       "      <td>...</td>\n",
       "      <td>...</td>\n",
       "    </tr>\n",
       "    <tr>\n",
       "      <th>9699</th>\n",
       "      <td>140</td>\n",
       "      <td>164.0</td>\n",
       "      <td>2981.107371</td>\n",
       "      <td>2013</td>\n",
       "      <td>15.101802</td>\n",
       "    </tr>\n",
       "    <tr>\n",
       "      <th>9700</th>\n",
       "      <td>180</td>\n",
       "      <td>154.0</td>\n",
       "      <td>2439.525729</td>\n",
       "      <td>2004</td>\n",
       "      <td>17.962326</td>\n",
       "    </tr>\n",
       "    <tr>\n",
       "      <th>9701</th>\n",
       "      <td>220</td>\n",
       "      <td>138.0</td>\n",
       "      <td>2583.471318</td>\n",
       "      <td>2008</td>\n",
       "      <td>17.186587</td>\n",
       "    </tr>\n",
       "    <tr>\n",
       "      <th>9702</th>\n",
       "      <td>230</td>\n",
       "      <td>177.0</td>\n",
       "      <td>2905.527390</td>\n",
       "      <td>2011</td>\n",
       "      <td>15.331551</td>\n",
       "    </tr>\n",
       "    <tr>\n",
       "      <th>9703</th>\n",
       "      <td>270</td>\n",
       "      <td>140.0</td>\n",
       "      <td>2908.043477</td>\n",
       "      <td>2005</td>\n",
       "      <td>14.884467</td>\n",
       "    </tr>\n",
       "  </tbody>\n",
       "</table>\n",
       "<p>9704 rows × 5 columns</p>\n",
       "</div>"
      ],
      "text/plain": [
       "      engine_displacement  horsepower  vehicle_weight  model_year  \\\n",
       "0                     170       159.0     3413.433759        2003   \n",
       "1                     130        97.0     3149.664934        2007   \n",
       "2                     170        78.0     3079.038997        2018   \n",
       "3                     220         NaN     2542.392402        2009   \n",
       "4                     210       140.0     3460.870990        2009   \n",
       "...                   ...         ...             ...         ...   \n",
       "9699                  140       164.0     2981.107371        2013   \n",
       "9700                  180       154.0     2439.525729        2004   \n",
       "9701                  220       138.0     2583.471318        2008   \n",
       "9702                  230       177.0     2905.527390        2011   \n",
       "9703                  270       140.0     2908.043477        2005   \n",
       "\n",
       "      fuel_efficiency_mpg  \n",
       "0               13.231729  \n",
       "1               13.688217  \n",
       "2               14.246341  \n",
       "3               16.912736  \n",
       "4               12.488369  \n",
       "...                   ...  \n",
       "9699            15.101802  \n",
       "9700            17.962326  \n",
       "9701            17.186587  \n",
       "9702            15.331551  \n",
       "9703            14.884467  \n",
       "\n",
       "[9704 rows x 5 columns]"
      ]
     },
     "execution_count": 37,
     "metadata": {},
     "output_type": "execute_result"
    }
   ],
   "source": [
    "df_subset"
   ]
  },
  {
   "cell_type": "code",
   "execution_count": 39,
   "id": "6fe69926-25b4-4f1a-867f-c8790fcf1875",
   "metadata": {},
   "outputs": [],
   "source": [
    "df_filled = df_subset.fillna(0)"
   ]
  },
  {
   "cell_type": "code",
   "execution_count": 41,
   "id": "4bf726ac-6c47-49a6-99ac-211c7f143078",
   "metadata": {},
   "outputs": [
    {
     "data": {
      "text/plain": [
       "engine_displacement    0\n",
       "horsepower             0\n",
       "vehicle_weight         0\n",
       "model_year             0\n",
       "fuel_efficiency_mpg    0\n",
       "dtype: int64"
      ]
     },
     "execution_count": 41,
     "metadata": {},
     "output_type": "execute_result"
    }
   ],
   "source": [
    "df_filled.isnull().sum()"
   ]
  },
  {
   "cell_type": "code",
   "execution_count": 42,
   "id": "feb3ea88-56d9-49f8-bc57-3c7a930aeb52",
   "metadata": {},
   "outputs": [
    {
     "data": {
      "text/plain": [
       "engine_displacement      int64\n",
       "horsepower             float64\n",
       "vehicle_weight         float64\n",
       "model_year               int64\n",
       "fuel_efficiency_mpg    float64\n",
       "dtype: object"
      ]
     },
     "execution_count": 42,
     "metadata": {},
     "output_type": "execute_result"
    }
   ],
   "source": [
    "df_filled.dtypes"
   ]
  },
  {
   "cell_type": "code",
   "execution_count": 43,
   "id": "5b7d5285-6dd0-47aa-802f-ff67627d18f0",
   "metadata": {},
   "outputs": [
    {
     "data": {
      "text/html": [
       "<div>\n",
       "<style scoped>\n",
       "    .dataframe tbody tr th:only-of-type {\n",
       "        vertical-align: middle;\n",
       "    }\n",
       "\n",
       "    .dataframe tbody tr th {\n",
       "        vertical-align: top;\n",
       "    }\n",
       "\n",
       "    .dataframe thead th {\n",
       "        text-align: right;\n",
       "    }\n",
       "</style>\n",
       "<table border=\"1\" class=\"dataframe\">\n",
       "  <thead>\n",
       "    <tr style=\"text-align: right;\">\n",
       "      <th></th>\n",
       "      <th>count</th>\n",
       "      <th>mean</th>\n",
       "      <th>std</th>\n",
       "      <th>min</th>\n",
       "      <th>0%</th>\n",
       "      <th>10%</th>\n",
       "      <th>25%</th>\n",
       "      <th>50%</th>\n",
       "      <th>75%</th>\n",
       "      <th>90%</th>\n",
       "      <th>95%</th>\n",
       "      <th>99%</th>\n",
       "      <th>max</th>\n",
       "    </tr>\n",
       "  </thead>\n",
       "  <tbody>\n",
       "    <tr>\n",
       "      <th>engine_displacement</th>\n",
       "      <td>9704.0</td>\n",
       "      <td>199.708368</td>\n",
       "      <td>49.455319</td>\n",
       "      <td>10.000000</td>\n",
       "      <td>10.000000</td>\n",
       "      <td>140.000000</td>\n",
       "      <td>170.000000</td>\n",
       "      <td>200.000000</td>\n",
       "      <td>230.000000</td>\n",
       "      <td>260.000000</td>\n",
       "      <td>280.000000</td>\n",
       "      <td>310.000000</td>\n",
       "      <td>380.000000</td>\n",
       "    </tr>\n",
       "    <tr>\n",
       "      <th>horsepower</th>\n",
       "      <td>9704.0</td>\n",
       "      <td>138.738355</td>\n",
       "      <td>48.401189</td>\n",
       "      <td>0.000000</td>\n",
       "      <td>0.000000</td>\n",
       "      <td>92.000000</td>\n",
       "      <td>124.000000</td>\n",
       "      <td>146.000000</td>\n",
       "      <td>168.000000</td>\n",
       "      <td>187.000000</td>\n",
       "      <td>198.000000</td>\n",
       "      <td>217.000000</td>\n",
       "      <td>271.000000</td>\n",
       "    </tr>\n",
       "    <tr>\n",
       "      <th>vehicle_weight</th>\n",
       "      <td>9704.0</td>\n",
       "      <td>3001.280993</td>\n",
       "      <td>497.894860</td>\n",
       "      <td>952.681761</td>\n",
       "      <td>952.681761</td>\n",
       "      <td>2366.705284</td>\n",
       "      <td>2666.248985</td>\n",
       "      <td>2993.226296</td>\n",
       "      <td>3334.957039</td>\n",
       "      <td>3639.429331</td>\n",
       "      <td>3819.762217</td>\n",
       "      <td>4177.957153</td>\n",
       "      <td>4739.077089</td>\n",
       "    </tr>\n",
       "    <tr>\n",
       "      <th>model_year</th>\n",
       "      <td>9704.0</td>\n",
       "      <td>2011.484027</td>\n",
       "      <td>6.659808</td>\n",
       "      <td>2000.000000</td>\n",
       "      <td>2000.000000</td>\n",
       "      <td>2002.000000</td>\n",
       "      <td>2006.000000</td>\n",
       "      <td>2012.000000</td>\n",
       "      <td>2017.000000</td>\n",
       "      <td>2021.000000</td>\n",
       "      <td>2022.000000</td>\n",
       "      <td>2023.000000</td>\n",
       "      <td>2023.000000</td>\n",
       "    </tr>\n",
       "    <tr>\n",
       "      <th>fuel_efficiency_mpg</th>\n",
       "      <td>9704.0</td>\n",
       "      <td>14.985243</td>\n",
       "      <td>2.556468</td>\n",
       "      <td>6.200971</td>\n",
       "      <td>6.200971</td>\n",
       "      <td>11.688767</td>\n",
       "      <td>13.267459</td>\n",
       "      <td>15.006037</td>\n",
       "      <td>16.707965</td>\n",
       "      <td>18.259461</td>\n",
       "      <td>19.150022</td>\n",
       "      <td>20.882064</td>\n",
       "      <td>25.967222</td>\n",
       "    </tr>\n",
       "  </tbody>\n",
       "</table>\n",
       "</div>"
      ],
      "text/plain": [
       "                      count         mean         std          min  \\\n",
       "engine_displacement  9704.0   199.708368   49.455319    10.000000   \n",
       "horsepower           9704.0   138.738355   48.401189     0.000000   \n",
       "vehicle_weight       9704.0  3001.280993  497.894860   952.681761   \n",
       "model_year           9704.0  2011.484027    6.659808  2000.000000   \n",
       "fuel_efficiency_mpg  9704.0    14.985243    2.556468     6.200971   \n",
       "\n",
       "                              0%          10%          25%          50%  \\\n",
       "engine_displacement    10.000000   140.000000   170.000000   200.000000   \n",
       "horsepower              0.000000    92.000000   124.000000   146.000000   \n",
       "vehicle_weight        952.681761  2366.705284  2666.248985  2993.226296   \n",
       "model_year           2000.000000  2002.000000  2006.000000  2012.000000   \n",
       "fuel_efficiency_mpg     6.200971    11.688767    13.267459    15.006037   \n",
       "\n",
       "                             75%          90%          95%          99%  \\\n",
       "engine_displacement   230.000000   260.000000   280.000000   310.000000   \n",
       "horsepower            168.000000   187.000000   198.000000   217.000000   \n",
       "vehicle_weight       3334.957039  3639.429331  3819.762217  4177.957153   \n",
       "model_year           2017.000000  2021.000000  2022.000000  2023.000000   \n",
       "fuel_efficiency_mpg    16.707965    18.259461    19.150022    20.882064   \n",
       "\n",
       "                             max  \n",
       "engine_displacement   380.000000  \n",
       "horsepower            271.000000  \n",
       "vehicle_weight       4739.077089  \n",
       "model_year           2023.000000  \n",
       "fuel_efficiency_mpg    25.967222  "
      ]
     },
     "execution_count": 43,
     "metadata": {},
     "output_type": "execute_result"
    }
   ],
   "source": [
    "df_filled.describe(percentiles=[.0, .25, .5, .75, .9, .95, .99, .1]).T"
   ]
  },
  {
   "cell_type": "code",
   "execution_count": 33,
   "id": "f8eda836-b4cf-4648-a851-03ed76118856",
   "metadata": {},
   "outputs": [
    {
     "ename": "AttributeError",
     "evalue": "'NoneType' object has no attribute 'fillna'",
     "output_type": "error",
     "traceback": [
      "\u001b[31m---------------------------------------------------------------------------\u001b[39m",
      "\u001b[31mAttributeError\u001b[39m                            Traceback (most recent call last)",
      "\u001b[36mCell\u001b[39m\u001b[36m \u001b[39m\u001b[32mIn[33]\u001b[39m\u001b[32m, line 1\u001b[39m\n\u001b[32m----> \u001b[39m\u001b[32m1\u001b[39m \u001b[43mdf_subset\u001b[49m\u001b[43m.\u001b[49m\u001b[43mfillna\u001b[49m(\u001b[32m0\u001b[39m)\n",
      "\u001b[31mAttributeError\u001b[39m: 'NoneType' object has no attribute 'fillna'"
     ]
    }
   ],
   "source": [
    " "
   ]
  },
  {
   "cell_type": "code",
   "execution_count": 44,
   "id": "8bb94410-2ee0-4d58-9a5e-3308a2cf795b",
   "metadata": {},
   "outputs": [
    {
     "data": {
      "text/plain": [
       "np.float64(146.0)"
      ]
     },
     "execution_count": 44,
     "metadata": {},
     "output_type": "execute_result"
    }
   ],
   "source": [
    "np.median(df_filled['horsepower'])"
   ]
  },
  {
   "cell_type": "code",
   "execution_count": 46,
   "id": "afa0643e-9ade-4afc-a78e-fbc909a7f935",
   "metadata": {},
   "outputs": [
    {
     "data": {
      "text/plain": [
       "np.float64(149.0)"
      ]
     },
     "execution_count": 46,
     "metadata": {},
     "output_type": "execute_result"
    }
   ],
   "source": [
    "median_horsepower = df_subset['horsepower'].median()\n",
    "median_horsepower"
   ]
  },
  {
   "cell_type": "code",
   "execution_count": 47,
   "id": "958bb3b9-c8d1-432f-8a29-f9dff9dc89eb",
   "metadata": {},
   "outputs": [],
   "source": [
    "n = len(df_subset)"
   ]
  },
  {
   "cell_type": "code",
   "execution_count": 49,
   "id": "94dc6a50-4885-4c7e-9416-5f0ce916dfc1",
   "metadata": {},
   "outputs": [],
   "source": [
    "idx =np.arange(n)\n",
    "idx\n",
    "np.random.seed(2)\n",
    "np.random.shuffle(idx)"
   ]
  },
  {
   "cell_type": "code",
   "execution_count": 50,
   "id": "6e18815c-e743-4aad-a229-83fd683ebc9e",
   "metadata": {},
   "outputs": [],
   "source": [
    "n_val = int(n * 0.2)\n",
    "n_test =  int(n * 0.2)\n",
    "n_train = n - (n_val) - n_test"
   ]
  },
  {
   "cell_type": "code",
   "execution_count": 51,
   "id": "5a3f875b-0186-4910-8002-e70459f7b1c4",
   "metadata": {},
   "outputs": [
    {
     "data": {
      "text/plain": [
       "1940"
      ]
     },
     "execution_count": 51,
     "metadata": {},
     "output_type": "execute_result"
    }
   ],
   "source": [
    "n_val"
   ]
  },
  {
   "cell_type": "code",
   "execution_count": 20,
   "id": "4af07a07-85f1-4b20-8b57-a14fe16c764c",
   "metadata": {},
   "outputs": [
    {
     "data": {
      "text/plain": [
       "1940"
      ]
     },
     "execution_count": 20,
     "metadata": {},
     "output_type": "execute_result"
    }
   ],
   "source": [
    "n_test"
   ]
  },
  {
   "cell_type": "code",
   "execution_count": 52,
   "id": "deab7389-afd0-4bec-830a-14d5342455f5",
   "metadata": {},
   "outputs": [
    {
     "data": {
      "text/plain": [
       "5824"
      ]
     },
     "execution_count": 52,
     "metadata": {},
     "output_type": "execute_result"
    }
   ],
   "source": [
    "n_train"
   ]
  },
  {
   "cell_type": "code",
   "execution_count": 53,
   "id": "2ba79be2-8c16-4825-88fb-dc30d3670d41",
   "metadata": {},
   "outputs": [
    {
     "data": {
      "text/plain": [
       "(9704, 9704)"
      ]
     },
     "execution_count": 53,
     "metadata": {},
     "output_type": "execute_result"
    }
   ],
   "source": [
    "n , n_val + n_test + n_train"
   ]
  },
  {
   "cell_type": "code",
   "execution_count": 55,
   "id": "a79874ec-5a16-43b9-af40-45f4efb9cc93",
   "metadata": {},
   "outputs": [
    {
     "data": {
      "text/html": [
       "<div>\n",
       "<style scoped>\n",
       "    .dataframe tbody tr th:only-of-type {\n",
       "        vertical-align: middle;\n",
       "    }\n",
       "\n",
       "    .dataframe tbody tr th {\n",
       "        vertical-align: top;\n",
       "    }\n",
       "\n",
       "    .dataframe thead th {\n",
       "        text-align: right;\n",
       "    }\n",
       "</style>\n",
       "<table border=\"1\" class=\"dataframe\">\n",
       "  <thead>\n",
       "    <tr style=\"text-align: right;\">\n",
       "      <th></th>\n",
       "      <th>engine_displacement</th>\n",
       "      <th>horsepower</th>\n",
       "      <th>vehicle_weight</th>\n",
       "      <th>model_year</th>\n",
       "      <th>fuel_efficiency_mpg</th>\n",
       "    </tr>\n",
       "  </thead>\n",
       "  <tbody>\n",
       "    <tr>\n",
       "      <th>0</th>\n",
       "      <td>170</td>\n",
       "      <td>159.0</td>\n",
       "      <td>3413.433759</td>\n",
       "      <td>2003</td>\n",
       "      <td>13.231729</td>\n",
       "    </tr>\n",
       "    <tr>\n",
       "      <th>1</th>\n",
       "      <td>130</td>\n",
       "      <td>97.0</td>\n",
       "      <td>3149.664934</td>\n",
       "      <td>2007</td>\n",
       "      <td>13.688217</td>\n",
       "    </tr>\n",
       "    <tr>\n",
       "      <th>2</th>\n",
       "      <td>170</td>\n",
       "      <td>78.0</td>\n",
       "      <td>3079.038997</td>\n",
       "      <td>2018</td>\n",
       "      <td>14.246341</td>\n",
       "    </tr>\n",
       "  </tbody>\n",
       "</table>\n",
       "</div>"
      ],
      "text/plain": [
       "   engine_displacement  horsepower  vehicle_weight  model_year  \\\n",
       "0                  170       159.0     3413.433759        2003   \n",
       "1                  130        97.0     3149.664934        2007   \n",
       "2                  170        78.0     3079.038997        2018   \n",
       "\n",
       "   fuel_efficiency_mpg  \n",
       "0            13.231729  \n",
       "1            13.688217  \n",
       "2            14.246341  "
      ]
     },
     "execution_count": 55,
     "metadata": {},
     "output_type": "execute_result"
    }
   ],
   "source": [
    "df_subset.iloc[[0,1,2]]"
   ]
  },
  {
   "cell_type": "code",
   "execution_count": 54,
   "id": "67e0c69e-7552-4d38-8c22-8fb309e7b7bf",
   "metadata": {},
   "outputs": [
    {
     "data": {
      "text/html": [
       "<div>\n",
       "<style scoped>\n",
       "    .dataframe tbody tr th:only-of-type {\n",
       "        vertical-align: middle;\n",
       "    }\n",
       "\n",
       "    .dataframe tbody tr th {\n",
       "        vertical-align: top;\n",
       "    }\n",
       "\n",
       "    .dataframe thead th {\n",
       "        text-align: right;\n",
       "    }\n",
       "</style>\n",
       "<table border=\"1\" class=\"dataframe\">\n",
       "  <thead>\n",
       "    <tr style=\"text-align: right;\">\n",
       "      <th></th>\n",
       "      <th>engine_displacement</th>\n",
       "      <th>horsepower</th>\n",
       "      <th>vehicle_weight</th>\n",
       "      <th>model_year</th>\n",
       "      <th>fuel_efficiency_mpg</th>\n",
       "    </tr>\n",
       "  </thead>\n",
       "  <tbody>\n",
       "    <tr>\n",
       "      <th>9700</th>\n",
       "      <td>180</td>\n",
       "      <td>154.0</td>\n",
       "      <td>2439.525729</td>\n",
       "      <td>2004</td>\n",
       "      <td>17.962326</td>\n",
       "    </tr>\n",
       "    <tr>\n",
       "      <th>9701</th>\n",
       "      <td>220</td>\n",
       "      <td>138.0</td>\n",
       "      <td>2583.471318</td>\n",
       "      <td>2008</td>\n",
       "      <td>17.186587</td>\n",
       "    </tr>\n",
       "    <tr>\n",
       "      <th>9702</th>\n",
       "      <td>230</td>\n",
       "      <td>177.0</td>\n",
       "      <td>2905.527390</td>\n",
       "      <td>2011</td>\n",
       "      <td>15.331551</td>\n",
       "    </tr>\n",
       "    <tr>\n",
       "      <th>9703</th>\n",
       "      <td>270</td>\n",
       "      <td>140.0</td>\n",
       "      <td>2908.043477</td>\n",
       "      <td>2005</td>\n",
       "      <td>14.884467</td>\n",
       "    </tr>\n",
       "  </tbody>\n",
       "</table>\n",
       "</div>"
      ],
      "text/plain": [
       "      engine_displacement  horsepower  vehicle_weight  model_year  \\\n",
       "9700                  180       154.0     2439.525729        2004   \n",
       "9701                  220       138.0     2583.471318        2008   \n",
       "9702                  230       177.0     2905.527390        2011   \n",
       "9703                  270       140.0     2908.043477        2005   \n",
       "\n",
       "      fuel_efficiency_mpg  \n",
       "9700            17.962326  \n",
       "9701            17.186587  \n",
       "9702            15.331551  \n",
       "9703            14.884467  "
      ]
     },
     "execution_count": 54,
     "metadata": {},
     "output_type": "execute_result"
    }
   ],
   "source": [
    "df_subset.iloc[9700:]"
   ]
  },
  {
   "cell_type": "code",
   "execution_count": 56,
   "id": "c5cbad15-d1a2-4ab1-89fe-d7119555200d",
   "metadata": {},
   "outputs": [
    {
     "data": {
      "text/html": [
       "<div>\n",
       "<style scoped>\n",
       "    .dataframe tbody tr th:only-of-type {\n",
       "        vertical-align: middle;\n",
       "    }\n",
       "\n",
       "    .dataframe tbody tr th {\n",
       "        vertical-align: top;\n",
       "    }\n",
       "\n",
       "    .dataframe thead th {\n",
       "        text-align: right;\n",
       "    }\n",
       "</style>\n",
       "<table border=\"1\" class=\"dataframe\">\n",
       "  <thead>\n",
       "    <tr style=\"text-align: right;\">\n",
       "      <th></th>\n",
       "      <th>engine_displacement</th>\n",
       "      <th>horsepower</th>\n",
       "      <th>vehicle_weight</th>\n",
       "      <th>model_year</th>\n",
       "      <th>fuel_efficiency_mpg</th>\n",
       "    </tr>\n",
       "  </thead>\n",
       "  <tbody>\n",
       "    <tr>\n",
       "      <th>0</th>\n",
       "      <td>170</td>\n",
       "      <td>159.0</td>\n",
       "      <td>3413.433759</td>\n",
       "      <td>2003</td>\n",
       "      <td>13.231729</td>\n",
       "    </tr>\n",
       "    <tr>\n",
       "      <th>1</th>\n",
       "      <td>130</td>\n",
       "      <td>97.0</td>\n",
       "      <td>3149.664934</td>\n",
       "      <td>2007</td>\n",
       "      <td>13.688217</td>\n",
       "    </tr>\n",
       "    <tr>\n",
       "      <th>2</th>\n",
       "      <td>170</td>\n",
       "      <td>78.0</td>\n",
       "      <td>3079.038997</td>\n",
       "      <td>2018</td>\n",
       "      <td>14.246341</td>\n",
       "    </tr>\n",
       "    <tr>\n",
       "      <th>3</th>\n",
       "      <td>220</td>\n",
       "      <td>NaN</td>\n",
       "      <td>2542.392402</td>\n",
       "      <td>2009</td>\n",
       "      <td>16.912736</td>\n",
       "    </tr>\n",
       "    <tr>\n",
       "      <th>4</th>\n",
       "      <td>210</td>\n",
       "      <td>140.0</td>\n",
       "      <td>3460.870990</td>\n",
       "      <td>2009</td>\n",
       "      <td>12.488369</td>\n",
       "    </tr>\n",
       "    <tr>\n",
       "      <th>...</th>\n",
       "      <td>...</td>\n",
       "      <td>...</td>\n",
       "      <td>...</td>\n",
       "      <td>...</td>\n",
       "      <td>...</td>\n",
       "    </tr>\n",
       "    <tr>\n",
       "      <th>1935</th>\n",
       "      <td>160</td>\n",
       "      <td>129.0</td>\n",
       "      <td>3157.084047</td>\n",
       "      <td>2010</td>\n",
       "      <td>14.287757</td>\n",
       "    </tr>\n",
       "    <tr>\n",
       "      <th>1936</th>\n",
       "      <td>200</td>\n",
       "      <td>120.0</td>\n",
       "      <td>2409.805200</td>\n",
       "      <td>2023</td>\n",
       "      <td>17.291549</td>\n",
       "    </tr>\n",
       "    <tr>\n",
       "      <th>1937</th>\n",
       "      <td>190</td>\n",
       "      <td>NaN</td>\n",
       "      <td>2953.047520</td>\n",
       "      <td>2002</td>\n",
       "      <td>15.468923</td>\n",
       "    </tr>\n",
       "    <tr>\n",
       "      <th>1938</th>\n",
       "      <td>210</td>\n",
       "      <td>168.0</td>\n",
       "      <td>3147.907270</td>\n",
       "      <td>2005</td>\n",
       "      <td>14.315125</td>\n",
       "    </tr>\n",
       "    <tr>\n",
       "      <th>1939</th>\n",
       "      <td>160</td>\n",
       "      <td>127.0</td>\n",
       "      <td>2538.943652</td>\n",
       "      <td>2013</td>\n",
       "      <td>17.562238</td>\n",
       "    </tr>\n",
       "  </tbody>\n",
       "</table>\n",
       "<p>1940 rows × 5 columns</p>\n",
       "</div>"
      ],
      "text/plain": [
       "      engine_displacement  horsepower  vehicle_weight  model_year  \\\n",
       "0                     170       159.0     3413.433759        2003   \n",
       "1                     130        97.0     3149.664934        2007   \n",
       "2                     170        78.0     3079.038997        2018   \n",
       "3                     220         NaN     2542.392402        2009   \n",
       "4                     210       140.0     3460.870990        2009   \n",
       "...                   ...         ...             ...         ...   \n",
       "1935                  160       129.0     3157.084047        2010   \n",
       "1936                  200       120.0     2409.805200        2023   \n",
       "1937                  190         NaN     2953.047520        2002   \n",
       "1938                  210       168.0     3147.907270        2005   \n",
       "1939                  160       127.0     2538.943652        2013   \n",
       "\n",
       "      fuel_efficiency_mpg  \n",
       "0               13.231729  \n",
       "1               13.688217  \n",
       "2               14.246341  \n",
       "3               16.912736  \n",
       "4               12.488369  \n",
       "...                   ...  \n",
       "1935            14.287757  \n",
       "1936            17.291549  \n",
       "1937            15.468923  \n",
       "1938            14.315125  \n",
       "1939            17.562238  \n",
       "\n",
       "[1940 rows x 5 columns]"
      ]
     },
     "execution_count": 56,
     "metadata": {},
     "output_type": "execute_result"
    }
   ],
   "source": [
    "df_subset.iloc[:n_val]"
   ]
  },
  {
   "cell_type": "code",
   "execution_count": 57,
   "id": "d2774d1b-fc3f-45e1-bda2-25be0ba41f98",
   "metadata": {},
   "outputs": [],
   "source": [
    "df_val = df_subset.iloc[:n_val]\n",
    "df_test = df_subset.iloc[n_val:n_val+ n_test]\n",
    "df_train =   df_subset.iloc[n_val + n_test:]"
   ]
  },
  {
   "cell_type": "code",
   "execution_count": 58,
   "id": "2eaac677-ec5d-4498-be0b-e4bcb1ead111",
   "metadata": {},
   "outputs": [],
   "source": [
    "df_train =  df_subset.iloc[:n_train]\n",
    "df_val = df_subset.iloc[n_train:n_train+n_val]\n",
    "df_test = df_subset.iloc[n_train+n_val:]"
   ]
  },
  {
   "cell_type": "code",
   "execution_count": 59,
   "id": "eedc8e89-07cd-4f85-8019-4d75053c8cdf",
   "metadata": {},
   "outputs": [
    {
     "data": {
      "text/html": [
       "<div>\n",
       "<style scoped>\n",
       "    .dataframe tbody tr th:only-of-type {\n",
       "        vertical-align: middle;\n",
       "    }\n",
       "\n",
       "    .dataframe tbody tr th {\n",
       "        vertical-align: top;\n",
       "    }\n",
       "\n",
       "    .dataframe thead th {\n",
       "        text-align: right;\n",
       "    }\n",
       "</style>\n",
       "<table border=\"1\" class=\"dataframe\">\n",
       "  <thead>\n",
       "    <tr style=\"text-align: right;\">\n",
       "      <th></th>\n",
       "      <th>engine_displacement</th>\n",
       "      <th>horsepower</th>\n",
       "      <th>vehicle_weight</th>\n",
       "      <th>model_year</th>\n",
       "      <th>fuel_efficiency_mpg</th>\n",
       "    </tr>\n",
       "  </thead>\n",
       "  <tbody>\n",
       "    <tr>\n",
       "      <th>0</th>\n",
       "      <td>170</td>\n",
       "      <td>159.0</td>\n",
       "      <td>3413.433759</td>\n",
       "      <td>2003</td>\n",
       "      <td>13.231729</td>\n",
       "    </tr>\n",
       "    <tr>\n",
       "      <th>1</th>\n",
       "      <td>130</td>\n",
       "      <td>97.0</td>\n",
       "      <td>3149.664934</td>\n",
       "      <td>2007</td>\n",
       "      <td>13.688217</td>\n",
       "    </tr>\n",
       "    <tr>\n",
       "      <th>2</th>\n",
       "      <td>170</td>\n",
       "      <td>78.0</td>\n",
       "      <td>3079.038997</td>\n",
       "      <td>2018</td>\n",
       "      <td>14.246341</td>\n",
       "    </tr>\n",
       "    <tr>\n",
       "      <th>3</th>\n",
       "      <td>220</td>\n",
       "      <td>NaN</td>\n",
       "      <td>2542.392402</td>\n",
       "      <td>2009</td>\n",
       "      <td>16.912736</td>\n",
       "    </tr>\n",
       "    <tr>\n",
       "      <th>4</th>\n",
       "      <td>210</td>\n",
       "      <td>140.0</td>\n",
       "      <td>3460.870990</td>\n",
       "      <td>2009</td>\n",
       "      <td>12.488369</td>\n",
       "    </tr>\n",
       "    <tr>\n",
       "      <th>...</th>\n",
       "      <td>...</td>\n",
       "      <td>...</td>\n",
       "      <td>...</td>\n",
       "      <td>...</td>\n",
       "      <td>...</td>\n",
       "    </tr>\n",
       "    <tr>\n",
       "      <th>5819</th>\n",
       "      <td>160</td>\n",
       "      <td>156.0</td>\n",
       "      <td>2990.334203</td>\n",
       "      <td>2020</td>\n",
       "      <td>15.294958</td>\n",
       "    </tr>\n",
       "    <tr>\n",
       "      <th>5820</th>\n",
       "      <td>240</td>\n",
       "      <td>105.0</td>\n",
       "      <td>3495.100812</td>\n",
       "      <td>2014</td>\n",
       "      <td>12.426054</td>\n",
       "    </tr>\n",
       "    <tr>\n",
       "      <th>5821</th>\n",
       "      <td>210</td>\n",
       "      <td>171.0</td>\n",
       "      <td>3434.252180</td>\n",
       "      <td>2011</td>\n",
       "      <td>12.509291</td>\n",
       "    </tr>\n",
       "    <tr>\n",
       "      <th>5822</th>\n",
       "      <td>180</td>\n",
       "      <td>172.0</td>\n",
       "      <td>2967.708852</td>\n",
       "      <td>2018</td>\n",
       "      <td>14.746571</td>\n",
       "    </tr>\n",
       "    <tr>\n",
       "      <th>5823</th>\n",
       "      <td>180</td>\n",
       "      <td>152.0</td>\n",
       "      <td>2483.544520</td>\n",
       "      <td>2014</td>\n",
       "      <td>16.848448</td>\n",
       "    </tr>\n",
       "  </tbody>\n",
       "</table>\n",
       "<p>5824 rows × 5 columns</p>\n",
       "</div>"
      ],
      "text/plain": [
       "      engine_displacement  horsepower  vehicle_weight  model_year  \\\n",
       "0                     170       159.0     3413.433759        2003   \n",
       "1                     130        97.0     3149.664934        2007   \n",
       "2                     170        78.0     3079.038997        2018   \n",
       "3                     220         NaN     2542.392402        2009   \n",
       "4                     210       140.0     3460.870990        2009   \n",
       "...                   ...         ...             ...         ...   \n",
       "5819                  160       156.0     2990.334203        2020   \n",
       "5820                  240       105.0     3495.100812        2014   \n",
       "5821                  210       171.0     3434.252180        2011   \n",
       "5822                  180       172.0     2967.708852        2018   \n",
       "5823                  180       152.0     2483.544520        2014   \n",
       "\n",
       "      fuel_efficiency_mpg  \n",
       "0               13.231729  \n",
       "1               13.688217  \n",
       "2               14.246341  \n",
       "3               16.912736  \n",
       "4               12.488369  \n",
       "...                   ...  \n",
       "5819            15.294958  \n",
       "5820            12.426054  \n",
       "5821            12.509291  \n",
       "5822            14.746571  \n",
       "5823            16.848448  \n",
       "\n",
       "[5824 rows x 5 columns]"
      ]
     },
     "execution_count": 59,
     "metadata": {},
     "output_type": "execute_result"
    }
   ],
   "source": [
    "df_train"
   ]
  },
  {
   "cell_type": "code",
   "execution_count": 60,
   "id": "b6608340-1683-406c-bc60-dab2d5a5f92d",
   "metadata": {},
   "outputs": [],
   "source": [
    "df_train =  df_subset.iloc[idx[:n_train]]\n",
    "df_val = df_subset.iloc[idx[n_train:n_train+n_val]]\n",
    "df_test = df_subset.iloc[idx[n_train+n_val:]]"
   ]
  },
  {
   "cell_type": "code",
   "execution_count": 61,
   "id": "24e1bd1a-cb60-437a-a2b7-6d4307793684",
   "metadata": {},
   "outputs": [
    {
     "data": {
      "text/plain": [
       "(      engine_displacement  horsepower  vehicle_weight  model_year  \\\n",
       " 246                   170       164.0     2990.040917        2019   \n",
       " 8125                  170         NaN     2729.623741        2012   \n",
       " 1927                  200       142.0     3126.513375        2019   \n",
       " 8235                  200       148.0     3136.477901        2003   \n",
       " 424                   230       141.0     3384.681613        2006   \n",
       " ...                   ...         ...             ...         ...   \n",
       " 5313                  210       145.0     3054.841280        2021   \n",
       " 4484                  210       142.0     2440.034914        2021   \n",
       " 7107                  260       169.0     2701.627103        2002   \n",
       " 9043                  240       137.0     2383.896460        2016   \n",
       " 1612                  160         NaN     2417.610650        2005   \n",
       " \n",
       "       fuel_efficiency_mpg  \n",
       " 246             15.963019  \n",
       " 8125            15.931964  \n",
       " 1927            14.284901  \n",
       " 8235            14.865210  \n",
       " 424             12.428822  \n",
       " ...                   ...  \n",
       " 5313            14.216871  \n",
       " 4484            17.826995  \n",
       " 7107            16.028769  \n",
       " 9043            17.794204  \n",
       " 1612            18.044561  \n",
       " \n",
       " [5824 rows x 5 columns],\n",
       "       engine_displacement  horsepower  vehicle_weight  model_year  \\\n",
       " 8228                  260       138.0     3843.156212        2019   \n",
       " 9252                  210       130.0     2643.471845        2022   \n",
       " 643                   210       143.0     3329.858078        2014   \n",
       " 2248                  170       191.0     3749.611122        2005   \n",
       " 9699                  140       164.0     2981.107371        2013   \n",
       " ...                   ...         ...             ...         ...   \n",
       " 5004                  220       149.0     2357.803610        2001   \n",
       " 9373                  190       138.0     2833.899434        2017   \n",
       " 8473                  270       104.0     2516.763688        2010   \n",
       " 7115                  180       130.0     3347.665591        2000   \n",
       " 3354                  250       162.0     3563.338313        2015   \n",
       " \n",
       "       fuel_efficiency_mpg  \n",
       " 8228            10.238328  \n",
       " 9252            16.641570  \n",
       " 643             12.864171  \n",
       " 2248            12.258436  \n",
       " 9699            15.101802  \n",
       " ...                   ...  \n",
       " 5004            18.217669  \n",
       " 9373            16.160904  \n",
       " 8473            17.115807  \n",
       " 7115            13.440942  \n",
       " 3354            12.114511  \n",
       " \n",
       " [1940 rows x 5 columns],\n",
       "       engine_displacement  horsepower  vehicle_weight  model_year  \\\n",
       " 8501                  210       153.0     4009.703618        2001   \n",
       " 1003                  200       125.0     3116.568770        2018   \n",
       " 6596                  150       221.0     2797.684088        2003   \n",
       " 8729                  190       141.0     3548.910770        2009   \n",
       " 6574                  200       169.0     3492.542080        2020   \n",
       " ...                   ...         ...             ...         ...   \n",
       " 1099                  150       201.0     2925.864524        2017   \n",
       " 2514                  120        99.0     2977.701087        2022   \n",
       " 6637                  100       169.0     2674.576543        2018   \n",
       " 2575                  220       187.0     2226.378943        2020   \n",
       " 7336                  190       155.0     2600.825756        2016   \n",
       " \n",
       "       fuel_efficiency_mpg  \n",
       " 8501            10.073835  \n",
       " 1003            14.786988  \n",
       " 6596            16.344033  \n",
       " 8729            12.500575  \n",
       " 6574            13.426546  \n",
       " ...                   ...  \n",
       " 1099            15.636663  \n",
       " 2514            14.657093  \n",
       " 6637            17.745336  \n",
       " 2575            20.099520  \n",
       " 7336            17.509976  \n",
       " \n",
       " [1940 rows x 5 columns])"
      ]
     },
     "execution_count": 61,
     "metadata": {},
     "output_type": "execute_result"
    }
   ],
   "source": [
    "df_train, df_val,df_test"
   ]
  },
  {
   "cell_type": "code",
   "execution_count": 62,
   "id": "cfc3abc6-55be-4426-b0e1-c7ecc09c8044",
   "metadata": {},
   "outputs": [
    {
     "data": {
      "text/plain": [
       "(5824, 1940, 1940)"
      ]
     },
     "execution_count": 62,
     "metadata": {},
     "output_type": "execute_result"
    }
   ],
   "source": [
    "len(df_train), len(df_val),len(df_test)"
   ]
  },
  {
   "cell_type": "code",
   "execution_count": 63,
   "id": "36a892c4-73f4-48d9-956e-b3e71cbb19a9",
   "metadata": {},
   "outputs": [],
   "source": [
    "df_train = df_train.reset_index(drop=True)\n",
    "df_val = df_val.reset_index(drop=True)\n",
    "df_test = df_test.reset_index(drop=True)"
   ]
  },
  {
   "cell_type": "code",
   "execution_count": 64,
   "id": "f8b5e2e0-4111-4a36-a323-55b347682e9c",
   "metadata": {},
   "outputs": [
    {
     "data": {
      "text/html": [
       "<div>\n",
       "<style scoped>\n",
       "    .dataframe tbody tr th:only-of-type {\n",
       "        vertical-align: middle;\n",
       "    }\n",
       "\n",
       "    .dataframe tbody tr th {\n",
       "        vertical-align: top;\n",
       "    }\n",
       "\n",
       "    .dataframe thead th {\n",
       "        text-align: right;\n",
       "    }\n",
       "</style>\n",
       "<table border=\"1\" class=\"dataframe\">\n",
       "  <thead>\n",
       "    <tr style=\"text-align: right;\">\n",
       "      <th></th>\n",
       "      <th>engine_displacement</th>\n",
       "      <th>horsepower</th>\n",
       "      <th>vehicle_weight</th>\n",
       "      <th>model_year</th>\n",
       "      <th>fuel_efficiency_mpg</th>\n",
       "    </tr>\n",
       "  </thead>\n",
       "  <tbody>\n",
       "    <tr>\n",
       "      <th>0</th>\n",
       "      <td>170</td>\n",
       "      <td>164.0</td>\n",
       "      <td>2990.040917</td>\n",
       "      <td>2019</td>\n",
       "      <td>15.963019</td>\n",
       "    </tr>\n",
       "    <tr>\n",
       "      <th>1</th>\n",
       "      <td>170</td>\n",
       "      <td>NaN</td>\n",
       "      <td>2729.623741</td>\n",
       "      <td>2012</td>\n",
       "      <td>15.931964</td>\n",
       "    </tr>\n",
       "    <tr>\n",
       "      <th>2</th>\n",
       "      <td>200</td>\n",
       "      <td>142.0</td>\n",
       "      <td>3126.513375</td>\n",
       "      <td>2019</td>\n",
       "      <td>14.284901</td>\n",
       "    </tr>\n",
       "    <tr>\n",
       "      <th>3</th>\n",
       "      <td>200</td>\n",
       "      <td>148.0</td>\n",
       "      <td>3136.477901</td>\n",
       "      <td>2003</td>\n",
       "      <td>14.865210</td>\n",
       "    </tr>\n",
       "    <tr>\n",
       "      <th>4</th>\n",
       "      <td>230</td>\n",
       "      <td>141.0</td>\n",
       "      <td>3384.681613</td>\n",
       "      <td>2006</td>\n",
       "      <td>12.428822</td>\n",
       "    </tr>\n",
       "    <tr>\n",
       "      <th>...</th>\n",
       "      <td>...</td>\n",
       "      <td>...</td>\n",
       "      <td>...</td>\n",
       "      <td>...</td>\n",
       "      <td>...</td>\n",
       "    </tr>\n",
       "    <tr>\n",
       "      <th>5819</th>\n",
       "      <td>210</td>\n",
       "      <td>145.0</td>\n",
       "      <td>3054.841280</td>\n",
       "      <td>2021</td>\n",
       "      <td>14.216871</td>\n",
       "    </tr>\n",
       "    <tr>\n",
       "      <th>5820</th>\n",
       "      <td>210</td>\n",
       "      <td>142.0</td>\n",
       "      <td>2440.034914</td>\n",
       "      <td>2021</td>\n",
       "      <td>17.826995</td>\n",
       "    </tr>\n",
       "    <tr>\n",
       "      <th>5821</th>\n",
       "      <td>260</td>\n",
       "      <td>169.0</td>\n",
       "      <td>2701.627103</td>\n",
       "      <td>2002</td>\n",
       "      <td>16.028769</td>\n",
       "    </tr>\n",
       "    <tr>\n",
       "      <th>5822</th>\n",
       "      <td>240</td>\n",
       "      <td>137.0</td>\n",
       "      <td>2383.896460</td>\n",
       "      <td>2016</td>\n",
       "      <td>17.794204</td>\n",
       "    </tr>\n",
       "    <tr>\n",
       "      <th>5823</th>\n",
       "      <td>160</td>\n",
       "      <td>NaN</td>\n",
       "      <td>2417.610650</td>\n",
       "      <td>2005</td>\n",
       "      <td>18.044561</td>\n",
       "    </tr>\n",
       "  </tbody>\n",
       "</table>\n",
       "<p>5824 rows × 5 columns</p>\n",
       "</div>"
      ],
      "text/plain": [
       "      engine_displacement  horsepower  vehicle_weight  model_year  \\\n",
       "0                     170       164.0     2990.040917        2019   \n",
       "1                     170         NaN     2729.623741        2012   \n",
       "2                     200       142.0     3126.513375        2019   \n",
       "3                     200       148.0     3136.477901        2003   \n",
       "4                     230       141.0     3384.681613        2006   \n",
       "...                   ...         ...             ...         ...   \n",
       "5819                  210       145.0     3054.841280        2021   \n",
       "5820                  210       142.0     2440.034914        2021   \n",
       "5821                  260       169.0     2701.627103        2002   \n",
       "5822                  240       137.0     2383.896460        2016   \n",
       "5823                  160         NaN     2417.610650        2005   \n",
       "\n",
       "      fuel_efficiency_mpg  \n",
       "0               15.963019  \n",
       "1               15.931964  \n",
       "2               14.284901  \n",
       "3               14.865210  \n",
       "4               12.428822  \n",
       "...                   ...  \n",
       "5819            14.216871  \n",
       "5820            17.826995  \n",
       "5821            16.028769  \n",
       "5822            17.794204  \n",
       "5823            18.044561  \n",
       "\n",
       "[5824 rows x 5 columns]"
      ]
     },
     "execution_count": 64,
     "metadata": {},
     "output_type": "execute_result"
    }
   ],
   "source": [
    "df_train"
   ]
  },
  {
   "cell_type": "code",
   "execution_count": 66,
   "id": "3466a4dd-06ed-44ea-9623-9ea3fcbc0d6e",
   "metadata": {},
   "outputs": [],
   "source": [
    "y_train = np.log1p(df_train.fuel_efficiency_mpg.values)\n",
    "y_val = np.log1p(df_val.fuel_efficiency_mpg.values)\n",
    "y_test = np.log1p(df_test.fuel_efficiency_mpg.values)\n",
    "\n",
    "y_train_orig = df_train.fuel_efficiency_mpg.values\n",
    "y_val_orig = df_val.fuel_efficiency_mpg.values\n",
    "y_test_orig = df_test.fuel_efficiency_mpg.values"
   ]
  },
  {
   "cell_type": "code",
   "execution_count": 39,
   "id": "c2b7a2c6-a5d3-459d-9d0e-6ac121be6d3a",
   "metadata": {},
   "outputs": [
    {
     "data": {
      "text/plain": [
       "array([2.77690288, 2.28237973, 2.48946539, ..., 2.47049577, 2.88753725,\n",
       "       2.62099978], shape=(5824,))"
      ]
     },
     "execution_count": 39,
     "metadata": {},
     "output_type": "execute_result"
    }
   ],
   "source": [
    "y_train"
   ]
  },
  {
   "cell_type": "code",
   "execution_count": 41,
   "id": "6e5a0fb4-dc64-4db7-9bc1-f652d788fe1f",
   "metadata": {},
   "outputs": [
    {
     "data": {
      "text/plain": [
       "array([2.61030508, 2.89988282, 2.83141974, ..., 2.92443689, 2.75473268,\n",
       "       2.6887522 ], shape=(1940,))"
      ]
     },
     "execution_count": 41,
     "metadata": {},
     "output_type": "execute_result"
    }
   ],
   "source": [
    "y_val"
   ]
  },
  {
   "cell_type": "code",
   "execution_count": 42,
   "id": "f3af5e64-f4da-4ebf-a71f-4519a19c6988",
   "metadata": {},
   "outputs": [
    {
     "data": {
      "text/plain": [
       "array([2.38973366, 2.83562023, 2.87212187, ..., 3.06456356, 2.99866793,\n",
       "       2.91448001], shape=(1940,))"
      ]
     },
     "execution_count": 42,
     "metadata": {},
     "output_type": "execute_result"
    }
   ],
   "source": [
    "y_test"
   ]
  },
  {
   "cell_type": "code",
   "execution_count": 67,
   "id": "0262d775-b575-485e-bcc7-8c4d217c42a1",
   "metadata": {},
   "outputs": [],
   "source": [
    "del df_train['fuel_efficiency_mpg']\n",
    "del df_val['fuel_efficiency_mpg']\n",
    "del df_test['fuel_efficiency_mpg']"
   ]
  },
  {
   "cell_type": "code",
   "execution_count": 44,
   "id": "e40d6c68-72df-4fd5-a88c-a93394e41c98",
   "metadata": {},
   "outputs": [
    {
     "data": {
      "text/html": [
       "<div>\n",
       "<style scoped>\n",
       "    .dataframe tbody tr th:only-of-type {\n",
       "        vertical-align: middle;\n",
       "    }\n",
       "\n",
       "    .dataframe tbody tr th {\n",
       "        vertical-align: top;\n",
       "    }\n",
       "\n",
       "    .dataframe thead th {\n",
       "        text-align: right;\n",
       "    }\n",
       "</style>\n",
       "<table border=\"1\" class=\"dataframe\">\n",
       "  <thead>\n",
       "    <tr style=\"text-align: right;\">\n",
       "      <th></th>\n",
       "      <th>engine_displacement</th>\n",
       "      <th>num_cylinders</th>\n",
       "      <th>horsepower</th>\n",
       "      <th>vehicle_weight</th>\n",
       "      <th>acceleration</th>\n",
       "      <th>model_year</th>\n",
       "      <th>origin</th>\n",
       "      <th>fuel_type</th>\n",
       "      <th>drivetrain</th>\n",
       "      <th>num_doors</th>\n",
       "    </tr>\n",
       "  </thead>\n",
       "  <tbody>\n",
       "    <tr>\n",
       "      <th>0</th>\n",
       "      <td>130</td>\n",
       "      <td>4.0</td>\n",
       "      <td>140.0</td>\n",
       "      <td>2958.050037</td>\n",
       "      <td>13.9</td>\n",
       "      <td>2008</td>\n",
       "      <td>Asia</td>\n",
       "      <td>Gasoline</td>\n",
       "      <td>All-wheel drive</td>\n",
       "      <td>0.0</td>\n",
       "    </tr>\n",
       "    <tr>\n",
       "      <th>1</th>\n",
       "      <td>310</td>\n",
       "      <td>5.0</td>\n",
       "      <td>181.0</td>\n",
       "      <td>4126.320291</td>\n",
       "      <td>20.7</td>\n",
       "      <td>2004</td>\n",
       "      <td>USA</td>\n",
       "      <td>Diesel</td>\n",
       "      <td>All-wheel drive</td>\n",
       "      <td>0.0</td>\n",
       "    </tr>\n",
       "    <tr>\n",
       "      <th>2</th>\n",
       "      <td>260</td>\n",
       "      <td>4.0</td>\n",
       "      <td>NaN</td>\n",
       "      <td>3948.404625</td>\n",
       "      <td>15.5</td>\n",
       "      <td>2018</td>\n",
       "      <td>Asia</td>\n",
       "      <td>Diesel</td>\n",
       "      <td>All-wheel drive</td>\n",
       "      <td>-1.0</td>\n",
       "    </tr>\n",
       "    <tr>\n",
       "      <th>3</th>\n",
       "      <td>280</td>\n",
       "      <td>NaN</td>\n",
       "      <td>157.0</td>\n",
       "      <td>2728.375114</td>\n",
       "      <td>17.6</td>\n",
       "      <td>2002</td>\n",
       "      <td>USA</td>\n",
       "      <td>Gasoline</td>\n",
       "      <td>All-wheel drive</td>\n",
       "      <td>0.0</td>\n",
       "    </tr>\n",
       "    <tr>\n",
       "      <th>4</th>\n",
       "      <td>190</td>\n",
       "      <td>3.0</td>\n",
       "      <td>90.0</td>\n",
       "      <td>3603.494149</td>\n",
       "      <td>17.1</td>\n",
       "      <td>2016</td>\n",
       "      <td>Europe</td>\n",
       "      <td>Diesel</td>\n",
       "      <td>All-wheel drive</td>\n",
       "      <td>1.0</td>\n",
       "    </tr>\n",
       "    <tr>\n",
       "      <th>...</th>\n",
       "      <td>...</td>\n",
       "      <td>...</td>\n",
       "      <td>...</td>\n",
       "      <td>...</td>\n",
       "      <td>...</td>\n",
       "      <td>...</td>\n",
       "      <td>...</td>\n",
       "      <td>...</td>\n",
       "      <td>...</td>\n",
       "      <td>...</td>\n",
       "    </tr>\n",
       "    <tr>\n",
       "      <th>5819</th>\n",
       "      <td>150</td>\n",
       "      <td>2.0</td>\n",
       "      <td>163.0</td>\n",
       "      <td>2564.488443</td>\n",
       "      <td>19.2</td>\n",
       "      <td>2012</td>\n",
       "      <td>Asia</td>\n",
       "      <td>Diesel</td>\n",
       "      <td>Front-wheel drive</td>\n",
       "      <td>-1.0</td>\n",
       "    </tr>\n",
       "    <tr>\n",
       "      <th>5820</th>\n",
       "      <td>210</td>\n",
       "      <td>4.0</td>\n",
       "      <td>137.0</td>\n",
       "      <td>2786.666205</td>\n",
       "      <td>16.9</td>\n",
       "      <td>2016</td>\n",
       "      <td>Europe</td>\n",
       "      <td>Diesel</td>\n",
       "      <td>Front-wheel drive</td>\n",
       "      <td>0.0</td>\n",
       "    </tr>\n",
       "    <tr>\n",
       "      <th>5821</th>\n",
       "      <td>110</td>\n",
       "      <td>NaN</td>\n",
       "      <td>159.0</td>\n",
       "      <td>3634.283068</td>\n",
       "      <td>NaN</td>\n",
       "      <td>2022</td>\n",
       "      <td>Asia</td>\n",
       "      <td>Diesel</td>\n",
       "      <td>All-wheel drive</td>\n",
       "      <td>-1.0</td>\n",
       "    </tr>\n",
       "    <tr>\n",
       "      <th>5822</th>\n",
       "      <td>230</td>\n",
       "      <td>2.0</td>\n",
       "      <td>158.0</td>\n",
       "      <td>2705.486173</td>\n",
       "      <td>12.7</td>\n",
       "      <td>2003</td>\n",
       "      <td>Europe</td>\n",
       "      <td>Gasoline</td>\n",
       "      <td>All-wheel drive</td>\n",
       "      <td>1.0</td>\n",
       "    </tr>\n",
       "    <tr>\n",
       "      <th>5823</th>\n",
       "      <td>110</td>\n",
       "      <td>5.0</td>\n",
       "      <td>144.0</td>\n",
       "      <td>3469.809186</td>\n",
       "      <td>13.5</td>\n",
       "      <td>2013</td>\n",
       "      <td>USA</td>\n",
       "      <td>Gasoline</td>\n",
       "      <td>All-wheel drive</td>\n",
       "      <td>0.0</td>\n",
       "    </tr>\n",
       "  </tbody>\n",
       "</table>\n",
       "<p>5824 rows × 10 columns</p>\n",
       "</div>"
      ],
      "text/plain": [
       "      engine_displacement  num_cylinders  horsepower  vehicle_weight  \\\n",
       "0                     130            4.0       140.0     2958.050037   \n",
       "1                     310            5.0       181.0     4126.320291   \n",
       "2                     260            4.0         NaN     3948.404625   \n",
       "3                     280            NaN       157.0     2728.375114   \n",
       "4                     190            3.0        90.0     3603.494149   \n",
       "...                   ...            ...         ...             ...   \n",
       "5819                  150            2.0       163.0     2564.488443   \n",
       "5820                  210            4.0       137.0     2786.666205   \n",
       "5821                  110            NaN       159.0     3634.283068   \n",
       "5822                  230            2.0       158.0     2705.486173   \n",
       "5823                  110            5.0       144.0     3469.809186   \n",
       "\n",
       "      acceleration  model_year  origin fuel_type         drivetrain  num_doors  \n",
       "0             13.9        2008    Asia  Gasoline    All-wheel drive        0.0  \n",
       "1             20.7        2004     USA    Diesel    All-wheel drive        0.0  \n",
       "2             15.5        2018    Asia    Diesel    All-wheel drive       -1.0  \n",
       "3             17.6        2002     USA  Gasoline    All-wheel drive        0.0  \n",
       "4             17.1        2016  Europe    Diesel    All-wheel drive        1.0  \n",
       "...            ...         ...     ...       ...                ...        ...  \n",
       "5819          19.2        2012    Asia    Diesel  Front-wheel drive       -1.0  \n",
       "5820          16.9        2016  Europe    Diesel  Front-wheel drive        0.0  \n",
       "5821           NaN        2022    Asia    Diesel    All-wheel drive       -1.0  \n",
       "5822          12.7        2003  Europe  Gasoline    All-wheel drive        1.0  \n",
       "5823          13.5        2013     USA  Gasoline    All-wheel drive        0.0  \n",
       "\n",
       "[5824 rows x 10 columns]"
      ]
     },
     "execution_count": 44,
     "metadata": {},
     "output_type": "execute_result"
    }
   ],
   "source": [
    "df_train"
   ]
  },
  {
   "cell_type": "code",
   "execution_count": 68,
   "id": "b41bb299-3d75-46d2-9b7a-54928e1cbc42",
   "metadata": {},
   "outputs": [
    {
     "data": {
      "text/plain": [
       "5824"
      ]
     },
     "execution_count": 68,
     "metadata": {},
     "output_type": "execute_result"
    }
   ],
   "source": [
    "len(y_train)"
   ]
  },
  {
   "cell_type": "code",
   "execution_count": 69,
   "id": "7db0a185-7fa0-4c53-96ae-c347fd599c2b",
   "metadata": {},
   "outputs": [
    {
     "data": {
      "text/plain": [
       "engine_displacement     110.000000\n",
       "horsepower              161.000000\n",
       "vehicle_weight         3064.002707\n",
       "model_year             2002.000000\n",
       "Name: 10, dtype: float64"
      ]
     },
     "execution_count": 69,
     "metadata": {},
     "output_type": "execute_result"
    }
   ],
   "source": [
    "df_train.iloc[10]"
   ]
  },
  {
   "cell_type": "code",
   "execution_count": 84,
   "id": "60c7458b-dc4f-43d4-b697-fd3ca5f46ed3",
   "metadata": {},
   "outputs": [],
   "source": [
    "xi =[161,3064,2002]\n",
    "xi\n",
    "w0=7.17\n",
    "w= [0.01,0.04,0.002]"
   ]
  },
  {
   "cell_type": "code",
   "execution_count": 85,
   "id": "8f598dd6-f810-4a59-93db-49fb05600796",
   "metadata": {},
   "outputs": [],
   "source": [
    "def liner_regression(xi):\n",
    "    n = len(xi)\n",
    "\n",
    "    pred = w0\n",
    "\n",
    "    for j in range(n):\n",
    "        pred = pred + w[j] * xi[j]\n",
    "\n",
    "\n",
    "    return pred    "
   ]
  },
  {
   "cell_type": "code",
   "execution_count": 86,
   "id": "73323498-17be-4027-89fb-ae8d17b271ac",
   "metadata": {},
   "outputs": [
    {
     "data": {
      "text/plain": [
       "135.344"
      ]
     },
     "execution_count": 86,
     "metadata": {},
     "output_type": "execute_result"
    }
   ],
   "source": [
    "liner_regression(xi)"
   ]
  },
  {
   "cell_type": "code",
   "execution_count": 100,
   "id": "03b19ceb-016f-49d3-b286-8f2f4d7ee400",
   "metadata": {},
   "outputs": [],
   "source": [
    "def train_linear_regression(X,y):\n",
    "    ones = np.ones(X.shape[0])\n",
    "    X = np.column_stack([ones,  X])\n",
    "    \n",
    "    XTX = X.T.dot(X)\n",
    "    XTX_inv = np.linalg.inv(XTX)\n",
    "    w_full = XTX_inv.dot(X.T).dot(y)\n",
    "    \n",
    "    return w_full[0], w_full[1:]     "
   ]
  },
  {
   "cell_type": "code",
   "execution_count": 101,
   "id": "71926069-729f-4a5e-a13c-695cba203e0b",
   "metadata": {},
   "outputs": [
    {
     "ename": "NameError",
     "evalue": "name 'X' is not defined",
     "output_type": "error",
     "traceback": [
      "\u001b[31m---------------------------------------------------------------------------\u001b[39m",
      "\u001b[31mNameError\u001b[39m                                 Traceback (most recent call last)",
      "\u001b[36mCell\u001b[39m\u001b[36m \u001b[39m\u001b[32mIn[101]\u001b[39m\u001b[32m, line 1\u001b[39m\n\u001b[32m----> \u001b[39m\u001b[32m1\u001b[39m train_linear_regression(\u001b[43mX\u001b[49m,y)\n",
      "\u001b[31mNameError\u001b[39m: name 'X' is not defined"
     ]
    }
   ],
   "source": [
    "train_linear_regression(X,y)"
   ]
  },
  {
   "cell_type": "code",
   "execution_count": 79,
   "id": "e2665966-40e3-4fd9-9248-ffc49db0ef0c",
   "metadata": {},
   "outputs": [],
   "source": [
    "def dot(xi,w):\n",
    "    n =  len(xi)\n",
    "\n",
    "    res =0.0\n",
    "\n",
    "    for j in range(n):\n",
    "        res = res + xi[j] + w[j]\n",
    "\n",
    "    return res"
   ]
  },
  {
   "cell_type": "code",
   "execution_count": 80,
   "id": "b89206b8-c4ee-4b8c-a24d-988931b3a1a2",
   "metadata": {},
   "outputs": [],
   "source": [
    "def liner_regression1(xi):\n",
    "    return w0 + dot(xi,w)"
   ]
  },
  {
   "cell_type": "code",
   "execution_count": 81,
   "id": "51313cae-c77c-4fb9-8a25-69318c3a5ff6",
   "metadata": {},
   "outputs": [
    {
     "data": {
      "text/plain": [
       "[7.17, 0.01, 0.04, 0.002]"
      ]
     },
     "execution_count": 81,
     "metadata": {},
     "output_type": "execute_result"
    }
   ],
   "source": [
    "w_new =  [w0] + w\n",
    "w_new"
   ]
  },
  {
   "cell_type": "code",
   "execution_count": 82,
   "id": "654c2c30-b7fa-4f8c-83cb-e03e5e9a77e3",
   "metadata": {},
   "outputs": [],
   "source": [
    "def liner_regression1(xi):\n",
    "    xi =  [1] + xi    \n",
    "    return w0 + dot(xi,w_new)"
   ]
  },
  {
   "cell_type": "code",
   "execution_count": 87,
   "id": "b957d242-1f11-4dbf-a961-ca1161c9f043",
   "metadata": {},
   "outputs": [
    {
     "data": {
      "text/plain": [
       "5242.392"
      ]
     },
     "execution_count": 87,
     "metadata": {},
     "output_type": "execute_result"
    }
   ],
   "source": [
    "liner_regression1(xi)"
   ]
  },
  {
   "cell_type": "code",
   "execution_count": 90,
   "id": "9a7f6ac0-e04f-469c-bcbc-e11f12de83bc",
   "metadata": {},
   "outputs": [
    {
     "data": {
      "text/plain": [
       "Index(['engine_displacement', 'horsepower', 'vehicle_weight', 'model_year'], dtype='object')"
      ]
     },
     "execution_count": 90,
     "metadata": {},
     "output_type": "execute_result"
    }
   ],
   "source": [
    "df_train.columns"
   ]
  },
  {
   "cell_type": "code",
   "execution_count": 91,
   "id": "f081ca12-3c10-4761-a97f-49b5391b49ec",
   "metadata": {},
   "outputs": [],
   "source": [
    "base =['engine_displacement', 'horsepower', 'vehicle_weight', 'model_year']"
   ]
  },
  {
   "cell_type": "code",
   "execution_count": 92,
   "id": "f9a4d36e-9946-4cbb-8cc8-a86617b71789",
   "metadata": {},
   "outputs": [
    {
     "data": {
      "text/html": [
       "<div>\n",
       "<style scoped>\n",
       "    .dataframe tbody tr th:only-of-type {\n",
       "        vertical-align: middle;\n",
       "    }\n",
       "\n",
       "    .dataframe tbody tr th {\n",
       "        vertical-align: top;\n",
       "    }\n",
       "\n",
       "    .dataframe thead th {\n",
       "        text-align: right;\n",
       "    }\n",
       "</style>\n",
       "<table border=\"1\" class=\"dataframe\">\n",
       "  <thead>\n",
       "    <tr style=\"text-align: right;\">\n",
       "      <th></th>\n",
       "      <th>engine_displacement</th>\n",
       "      <th>horsepower</th>\n",
       "      <th>vehicle_weight</th>\n",
       "      <th>model_year</th>\n",
       "    </tr>\n",
       "  </thead>\n",
       "  <tbody>\n",
       "    <tr>\n",
       "      <th>0</th>\n",
       "      <td>170</td>\n",
       "      <td>164.0</td>\n",
       "      <td>2990.040917</td>\n",
       "      <td>2019</td>\n",
       "    </tr>\n",
       "    <tr>\n",
       "      <th>1</th>\n",
       "      <td>170</td>\n",
       "      <td>NaN</td>\n",
       "      <td>2729.623741</td>\n",
       "      <td>2012</td>\n",
       "    </tr>\n",
       "    <tr>\n",
       "      <th>2</th>\n",
       "      <td>200</td>\n",
       "      <td>142.0</td>\n",
       "      <td>3126.513375</td>\n",
       "      <td>2019</td>\n",
       "    </tr>\n",
       "    <tr>\n",
       "      <th>3</th>\n",
       "      <td>200</td>\n",
       "      <td>148.0</td>\n",
       "      <td>3136.477901</td>\n",
       "      <td>2003</td>\n",
       "    </tr>\n",
       "    <tr>\n",
       "      <th>4</th>\n",
       "      <td>230</td>\n",
       "      <td>141.0</td>\n",
       "      <td>3384.681613</td>\n",
       "      <td>2006</td>\n",
       "    </tr>\n",
       "    <tr>\n",
       "      <th>...</th>\n",
       "      <td>...</td>\n",
       "      <td>...</td>\n",
       "      <td>...</td>\n",
       "      <td>...</td>\n",
       "    </tr>\n",
       "    <tr>\n",
       "      <th>5819</th>\n",
       "      <td>210</td>\n",
       "      <td>145.0</td>\n",
       "      <td>3054.841280</td>\n",
       "      <td>2021</td>\n",
       "    </tr>\n",
       "    <tr>\n",
       "      <th>5820</th>\n",
       "      <td>210</td>\n",
       "      <td>142.0</td>\n",
       "      <td>2440.034914</td>\n",
       "      <td>2021</td>\n",
       "    </tr>\n",
       "    <tr>\n",
       "      <th>5821</th>\n",
       "      <td>260</td>\n",
       "      <td>169.0</td>\n",
       "      <td>2701.627103</td>\n",
       "      <td>2002</td>\n",
       "    </tr>\n",
       "    <tr>\n",
       "      <th>5822</th>\n",
       "      <td>240</td>\n",
       "      <td>137.0</td>\n",
       "      <td>2383.896460</td>\n",
       "      <td>2016</td>\n",
       "    </tr>\n",
       "    <tr>\n",
       "      <th>5823</th>\n",
       "      <td>160</td>\n",
       "      <td>NaN</td>\n",
       "      <td>2417.610650</td>\n",
       "      <td>2005</td>\n",
       "    </tr>\n",
       "  </tbody>\n",
       "</table>\n",
       "<p>5824 rows × 4 columns</p>\n",
       "</div>"
      ],
      "text/plain": [
       "      engine_displacement  horsepower  vehicle_weight  model_year\n",
       "0                     170       164.0     2990.040917        2019\n",
       "1                     170         NaN     2729.623741        2012\n",
       "2                     200       142.0     3126.513375        2019\n",
       "3                     200       148.0     3136.477901        2003\n",
       "4                     230       141.0     3384.681613        2006\n",
       "...                   ...         ...             ...         ...\n",
       "5819                  210       145.0     3054.841280        2021\n",
       "5820                  210       142.0     2440.034914        2021\n",
       "5821                  260       169.0     2701.627103        2002\n",
       "5822                  240       137.0     2383.896460        2016\n",
       "5823                  160         NaN     2417.610650        2005\n",
       "\n",
       "[5824 rows x 4 columns]"
      ]
     },
     "execution_count": 92,
     "metadata": {},
     "output_type": "execute_result"
    }
   ],
   "source": [
    "df_train[base]"
   ]
  },
  {
   "cell_type": "code",
   "execution_count": 93,
   "id": "b10ba37d-c106-4c45-b669-6c9cff8cc23d",
   "metadata": {},
   "outputs": [],
   "source": [
    "x_train = df_train[base].values"
   ]
  },
  {
   "cell_type": "code",
   "execution_count": 94,
   "id": "3233a393-7324-40c4-982e-a3a350ffa683",
   "metadata": {},
   "outputs": [
    {
     "data": {
      "text/plain": [
       "engine_displacement      0\n",
       "horsepower             413\n",
       "vehicle_weight           0\n",
       "model_year               0\n",
       "dtype: int64"
      ]
     },
     "execution_count": 94,
     "metadata": {},
     "output_type": "execute_result"
    }
   ],
   "source": [
    "df_train[base].isnull().sum()"
   ]
  },
  {
   "cell_type": "code",
   "execution_count": 95,
   "id": "e9d7d71b-a4dc-4378-ad66-afa80e37e691",
   "metadata": {},
   "outputs": [],
   "source": [
    "x_train = df_train[base].fillna(0).values"
   ]
  },
  {
   "cell_type": "code",
   "execution_count": 96,
   "id": "227847a1-922e-428f-bd95-696279c4fab6",
   "metadata": {},
   "outputs": [
    {
     "data": {
      "text/plain": [
       "array([[ 170.        ,  164.        , 2990.04091672, 2019.        ],\n",
       "       [ 170.        ,    0.        , 2729.62374119, 2012.        ],\n",
       "       [ 200.        ,  142.        , 3126.51337459, 2019.        ],\n",
       "       ...,\n",
       "       [ 260.        ,  169.        , 2701.62710304, 2002.        ],\n",
       "       [ 240.        ,  137.        , 2383.8964603 , 2016.        ],\n",
       "       [ 160.        ,    0.        , 2417.61065044, 2005.        ]],\n",
       "      shape=(5824, 4))"
      ]
     },
     "execution_count": 96,
     "metadata": {},
     "output_type": "execute_result"
    }
   ],
   "source": [
    "x_train"
   ]
  },
  {
   "cell_type": "code",
   "execution_count": 97,
   "id": "a36e3d42-e79f-4a1f-bda1-0402acb725a7",
   "metadata": {},
   "outputs": [
    {
     "data": {
      "text/plain": [
       "engine_displacement    0\n",
       "horsepower             0\n",
       "vehicle_weight         0\n",
       "model_year             0\n",
       "dtype: int64"
      ]
     },
     "execution_count": 97,
     "metadata": {},
     "output_type": "execute_result"
    }
   ],
   "source": [
    "df_train[base].fillna(0).isnull().sum()"
   ]
  },
  {
   "cell_type": "code",
   "execution_count": 98,
   "id": "48321658-783c-44dd-ad5f-8b462fd3f060",
   "metadata": {},
   "outputs": [
    {
     "data": {
      "text/plain": [
       "array([2.83103561, 2.82920322, 2.72686549, ..., 2.8349042 , 2.93354855,\n",
       "       2.94678157], shape=(5824,))"
      ]
     },
     "execution_count": 98,
     "metadata": {},
     "output_type": "execute_result"
    }
   ],
   "source": [
    "y_train"
   ]
  },
  {
   "cell_type": "code",
   "execution_count": 102,
   "id": "98b5b34f-cde4-4d87-b4e4-2f5199e331e7",
   "metadata": {},
   "outputs": [],
   "source": [
    "w0, w=train_linear_regression(x_train,y_train)"
   ]
  },
  {
   "cell_type": "code",
   "execution_count": 103,
   "id": "bd64393a-ea21-4528-a6b0-1a431efd0b06",
   "metadata": {},
   "outputs": [
    {
     "data": {
      "text/plain": [
       "(np.float64(3.4836343845344357),\n",
       " array([ 7.48585751e-06,  2.43675962e-04, -3.21959038e-04,  1.02373968e-04]))"
      ]
     },
     "execution_count": 103,
     "metadata": {},
     "output_type": "execute_result"
    }
   ],
   "source": [
    "w0,w"
   ]
  },
  {
   "cell_type": "code",
   "execution_count": 104,
   "id": "c45b9e87-fdd4-42e8-b421-488456256473",
   "metadata": {},
   "outputs": [],
   "source": [
    "y_pred = w0 +x_train.dot(w)"
   ]
  },
  {
   "cell_type": "code",
   "execution_count": 106,
   "id": "f1fc2b70-605a-48a6-aeaa-6c5fb3c31bd1",
   "metadata": {},
   "outputs": [],
   "source": [
    "%matplotlib inline\n",
    "\n",
    "import pandas as pd\n",
    "import numpy as np\n",
    "\n",
    "import matplotlib.pyplot as plt\n",
    "import seaborn as sns\n"
   ]
  },
  {
   "cell_type": "code",
   "execution_count": 107,
   "id": "2e36ff4b-9a73-48af-9808-09d87f140cd3",
   "metadata": {},
   "outputs": [
    {
     "data": {
      "text/plain": [
       "<Axes: ylabel='Count'>"
      ]
     },
     "execution_count": 107,
     "metadata": {},
     "output_type": "execute_result"
    },
    {
     "data": {
      "image/png": "[encoded data removed]",
      "text/plain": [
       "<Figure size 640x480 with 1 Axes>"
      ]
     },
     "metadata": {},
     "output_type": "display_data"
    }
   ],
   "source": [
    "sns.histplot(y_pred,color = 'red', alpha =  0.5, bins =50)\n",
    "sns.histplot(y_train, color ='blue',alpha =  0.5, bins =50)"
   ]
  },
  {
   "cell_type": "code",
   "execution_count": 108,
   "id": "7b49ae1a-1e4d-4d57-98d0-2df7b6e6efd2",
   "metadata": {},
   "outputs": [],
   "source": [
    "def rmse(y,y_pred):\n",
    "    error =  y- y_pred\n",
    "    se =  error ** 2\n",
    "    mse = se.mean()\n",
    "    return np.sqrt(mse)"
   ]
  },
  {
   "cell_type": "code",
   "execution_count": 109,
   "id": "c058e8c1-cd75-4a89-852f-b212c0fe9f59",
   "metadata": {},
   "outputs": [
    {
     "data": {
      "text/plain": [
       "np.float64(0.03902570026567233)"
      ]
     },
     "execution_count": 109,
     "metadata": {},
     "output_type": "execute_result"
    }
   ],
   "source": [
    "rmse(y_train, y_pred)"
   ]
  },
  {
   "cell_type": "code",
   "execution_count": 111,
   "id": "18468d7b-d489-4934-9279-8e843338977a",
   "metadata": {},
   "outputs": [],
   "source": [
    "base =['engine_displacement', 'horsepower', 'vehicle_weight', 'model_year']\n",
    "df_train[base]\n",
    "x_train = df_train[base].fillna(0).values\n",
    "w0, w=train_linear_regression(x_train,y_train)\n",
    "y_pred = w0 +x_train.dot(w)"
   ]
  },
  {
   "cell_type": "code",
   "execution_count": 112,
   "id": "3673a9fe-3e80-44e5-8945-54c2f088a43f",
   "metadata": {},
   "outputs": [],
   "source": [
    "def prepare_X(df):\n",
    "    df_num = df[base]\n",
    "    df_num =df_num.fillna(0)\n",
    "    X = df_num.values\n",
    "    return X    "
   ]
  },
  {
   "cell_type": "code",
   "execution_count": 113,
   "id": "636c4a6e-7792-4cfa-9d4d-be5432c1c835",
   "metadata": {},
   "outputs": [
    {
     "data": {
      "text/plain": [
       "np.float64(0.039446530525595505)"
      ]
     },
     "execution_count": 113,
     "metadata": {},
     "output_type": "execute_result"
    }
   ],
   "source": [
    "X_train =  prepare_X(df_train)\n",
    "w0, w=train_linear_regression(X_train,y_train)\n",
    "\n",
    "X_val =  prepare_X(df_val)\n",
    "y_pred =  w0 + X_val.dot(w)\n",
    "\n",
    "rmse(y_val, y_pred)"
   ]
  },
  {
   "cell_type": "code",
   "execution_count": 116,
   "id": "cfa6492e-d0b4-4e68-bd7b-c81f6477a502",
   "metadata": {},
   "outputs": [
    {
     "data": {
      "text/plain": [
       "np.int64(2023)"
      ]
     },
     "execution_count": 116,
     "metadata": {},
     "output_type": "execute_result"
    }
   ],
   "source": [
    "df_train.model_year.max()"
   ]
  },
  {
   "cell_type": "code",
   "execution_count": 117,
   "id": "9714636c-7fc9-45aa-b301-b86cacca3b95",
   "metadata": {},
   "outputs": [],
   "source": [
    "def train_linear_regresson_reg(X,y, r = 0.001):\n",
    "    ones = np.ones(X.shape[0])\n",
    "    X = np.column_stack([ones, X])\n",
    "    XTX = X.T.dot(X)\n",
    "    XTX = XTX + r * np.eye(XTX.shape[0])\n",
    "\n",
    "    XTX_inv = np.linalg.inv(XTX)\n",
    "    w_full =  XTX_inv.dot(X.T).dot(y)\n",
    "\n",
    "    return w_full[0], w_full[1:]       "
   ]
  },
  {
   "cell_type": "code",
   "execution_count": 118,
   "id": "4fb64d3b-3df3-4a43-b0e2-2586ce3536db",
   "metadata": {},
   "outputs": [
    {
     "data": {
      "text/plain": [
       "np.float64(0.039515104916555806)"
      ]
     },
     "execution_count": 118,
     "metadata": {},
     "output_type": "execute_result"
    }
   ],
   "source": [
    "X_train =  prepare_X(df_train)\n",
    "w0, w = train_linear_regresson_reg(X_train,y_train, r=0.01)\n",
    "\n",
    "X_val =  prepare_X(df_val)\n",
    "y_pred =  w0 + X_val.dot(w)\n",
    "\n",
    "rmse(y_val, y_pred)"
   ]
  },
  {
   "cell_type": "code",
   "execution_count": 120,
   "id": "ee719c6a-e64e-4591-88e3-3a30f60ef099",
   "metadata": {},
   "outputs": [
    {
     "name": "stdout",
     "output_type": "stream",
     "text": [
      "0 3.4836343845344357 0.04\n",
      "0.01 3.0077488644306047 0.04\n",
      "0.1 1.3490966793151866 0.04\n",
      "1 0.20708900717753925 0.04\n",
      "5 0.04348656887288953 0.04\n",
      "10 0.021880298240084226 0.04\n",
      "100 0.00220128711783084 0.04\n"
     ]
    }
   ],
   "source": [
    "for r in [0, 0.01, 0.1, 1, 5, 10, 100]:\n",
    "    X_train =  prepare_X(df_train)\n",
    "    w0, w = train_linear_regresson_reg(X_train,y_train, r=r)\n",
    "    \n",
    "    X_val =  prepare_X(df_val)\n",
    "    y_pred =  w0 + X_val.dot(w)    \n",
    "    score =np.round(rmse(y_val, y_pred),2)\n",
    "\n",
    "    print(r, w0, score)"
   ]
  },
  {
   "cell_type": "code",
   "execution_count": 124,
   "id": "2bb7bf3a-3820-47b0-bf4e-b72469aa5c0d",
   "metadata": {},
   "outputs": [
    {
     "ename": "NameError",
     "evalue": "name 'data_subset' is not defined",
     "output_type": "error",
     "traceback": [
      "\u001b[31m---------------------------------------------------------------------------\u001b[39m",
      "\u001b[31mNameError\u001b[39m                                 Traceback (most recent call last)",
      "\u001b[36mCell\u001b[39m\u001b[36m \u001b[39m\u001b[32mIn[124]\u001b[39m\u001b[32m, line 1\u001b[39m\n\u001b[32m----> \u001b[39m\u001b[32m1\u001b[39m \u001b[43mdata_subset\u001b[49m\n",
      "\u001b[31mNameError\u001b[39m: name 'data_subset' is not defined"
     ]
    }
   ],
   "source": [
    "data_subset"
   ]
  },
  {
   "cell_type": "code",
   "execution_count": 130,
   "id": "f2acd052-4e7a-42a5-b4a1-f67d45798e24",
   "metadata": {},
   "outputs": [
    {
     "name": "stdout",
     "output_type": "stream",
     "text": [
      "0 3.5840552002665245 0.23\n",
      "1 3.802370265133959 0.23\n",
      "2 3.4836343845344357 0.04\n",
      "3 3.657951656449596 0.24\n",
      "4 3.5304453062056993 0.23\n",
      "5 3.489796183072592 0.22\n",
      "6 3.440222584817519 0.23\n",
      "7 3.606243552753437 0.23\n",
      "8 3.4845126366830237 0.22\n",
      "9 3.593421326834908 0.22\n"
     ]
    }
   ],
   "source": [
    "rmse_list = []\n",
    "\n",
    "for r in [0, 1, 2, 3, 4, 5, 6, 7, 8, 9]:\n",
    "\n",
    "    idx =np.arange(n) \n",
    "    np.random.seed(r)\n",
    "    np.random.shuffle(idx)\n",
    "    \n",
    "    df_train =  df_subset.iloc[:n_train]\n",
    "    df_val = df_subset.iloc[n_train:n_train+n_val]\n",
    "    df_test = df_subset.iloc[n_train+n_val:]\n",
    "    \n",
    "    df_train =  df_subset.iloc[idx[:n_train]]\n",
    "    df_val = df_subset.iloc[idx[n_train:n_train+n_val]]\n",
    "    df_test = df_subset.iloc[idx[n_train+n_val:]]\n",
    "    \n",
    "    df_train = df_train.reset_index(drop=True)\n",
    "    df_val = df_val.reset_index(drop=True)\n",
    "    df_test = df_test.reset_index(drop=True)\n",
    "    \n",
    "    y_train = np.log1p(df_train.fuel_efficiency_mpg.values)\n",
    "    y_val = np.log1p(df_val.fuel_efficiency_mpg.values)\n",
    "    y_test = np.log1p(df_test.fuel_efficiency_mpg.values)\n",
    "    \n",
    "    del df_train['fuel_efficiency_mpg']\n",
    "    del df_val['fuel_efficiency_mpg']\n",
    "    del df_test['fuel_efficiency_mpg']\n",
    "    \n",
    "    \n",
    "    X_null_train = prepare_X(df_train)\n",
    "    w0, w=train_linear_regression(X_null_train ,y_train)\n",
    "    \n",
    "    X_null_val =  prepare_X(df_val)\n",
    "    y_pred =  w0 + X_val.dot(w)\n",
    "    rmse_val = np.round(rmse(y_val, y_pred),2)\n",
    "    \n",
    "    rmse_list.append(rmse_val)\n",
    "    print(r, w0, rmse_val)"
   ]
  },
  {
   "cell_type": "code",
   "execution_count": 131,
   "id": "a9515b7e-4453-4c33-ba79-a2f928e731b2",
   "metadata": {},
   "outputs": [
    {
     "data": {
      "text/plain": [
       "[np.float64(0.23),\n",
       " np.float64(0.23),\n",
       " np.float64(0.04),\n",
       " np.float64(0.24),\n",
       " np.float64(0.23),\n",
       " np.float64(0.22),\n",
       " np.float64(0.23),\n",
       " np.float64(0.23),\n",
       " np.float64(0.22),\n",
       " np.float64(0.22)]"
      ]
     },
     "execution_count": 131,
     "metadata": {},
     "output_type": "execute_result"
    }
   ],
   "source": [
    "rmse_list"
   ]
  },
  {
   "cell_type": "code",
   "execution_count": 132,
   "id": "606c6225-7cee-4d37-8802-55ab32408783",
   "metadata": {},
   "outputs": [
    {
     "data": {
      "text/plain": [
       "np.float64(0.057)"
      ]
     },
     "execution_count": 132,
     "metadata": {},
     "output_type": "execute_result"
    }
   ],
   "source": [
    "np.round(np.std(rmse_list),3)"
   ]
  },
  {
   "cell_type": "code",
   "execution_count": 136,
   "id": "c0963252-133b-47a0-9a33-bd7732e4af42",
   "metadata": {},
   "outputs": [
    {
     "name": "stdout",
     "output_type": "stream",
     "text": [
      "9 0.022220626930567193 0.16\n"
     ]
    }
   ],
   "source": [
    "rmse_list = []\n",
    "r=0.001\n",
    "\n",
    "for r in [9]:\n",
    "\n",
    "    idx =np.arange(n) \n",
    "    np.random.seed(r)\n",
    "    np.random.shuffle(idx)\n",
    "    \n",
    "    df_train =  df_subset.iloc[:n_train]\n",
    "    df_val = df_subset.iloc[n_train:n_train+n_val]\n",
    "    df_test = df_subset.iloc[n_train+n_val:]\n",
    "    \n",
    "    df_train =  df_subset.iloc[idx[:n_train]]\n",
    "    df_val = df_subset.iloc[idx[n_train:n_train+n_val]]\n",
    "    df_test = df_subset.iloc[idx[n_train+n_val:]]\n",
    "    \n",
    "    df_train = df_train.reset_index(drop=True)\n",
    "    df_val = df_val.reset_index(drop=True)\n",
    "    df_test = df_test.reset_index(drop=True)\n",
    "    \n",
    "    y_train = np.log1p(df_train.fuel_efficiency_mpg.values)\n",
    "    y_val = np.log1p(df_val.fuel_efficiency_mpg.values)\n",
    "    y_test = np.log1p(df_test.fuel_efficiency_mpg.values)\n",
    "    \n",
    "    del df_train['fuel_efficiency_mpg']\n",
    "    del df_val['fuel_efficiency_mpg']\n",
    "    del df_test['fuel_efficiency_mpg']\n",
    "    \n",
    "    \n",
    "    X_null_train = prepare_X(df_train)\n",
    "    w0, w = train_linear_regresson_reg(X_train,y_train, r=r)\n",
    "    \n",
    "    X_null_val =  prepare_X(df_val)\n",
    "    y_pred =  w0 + X_val.dot(w)\n",
    "    rmse_val = np.round(rmse(y_val, y_pred),2)\n",
    "    \n",
    "    rmse_list.append(rmse_val)\n",
    "    print(r, w0, rmse_val)"
   ]
  },
  {
   "cell_type": "code",
   "execution_count": 137,
   "id": "66b24281-2d76-420b-b12f-23436dd87a10",
   "metadata": {},
   "outputs": [
    {
     "data": {
      "text/plain": [
       "[np.float64(0.16)]"
      ]
     },
     "execution_count": 137,
     "metadata": {},
     "output_type": "execute_result"
    }
   ],
   "source": [
    "rmse_list"
   ]
  },
  {
   "cell_type": "code",
   "execution_count": 138,
   "id": "db149bf6-1561-453f-84a6-a1950316ffe1",
   "metadata": {},
   "outputs": [
    {
     "data": {
      "text/plain": [
       "np.float64(0.0)"
      ]
     },
     "execution_count": 138,
     "metadata": {},
     "output_type": "execute_result"
    }
   ],
   "source": [
    "np.round(np.std(rmse_list),3)"
   ]
  },
  {
   "cell_type": "code",
   "execution_count": null,
   "id": "8f76120d-d650-4ee6-b589-c9b7074fd433",
   "metadata": {},
   "outputs": [],
   "source": []
  }
 ],
 "metadata": {
  "kernelspec": {
   "display_name": "Python 3 (ipykernel)",
   "language": "python",
   "name": "python3"
  },
  "language_info": {
   "codemirror_mode": {
    "name": "ipython",
    "version": 3
   },
   "file_extension": ".py",
   "mimetype": "text/x-python",
   "name": "python",
   "nbconvert_exporter": "python",
   "pygments_lexer": "ipython3",
   "version": "3.12.1"
  }
 },
 "nbformat": 4,
 "nbformat_minor": 5
}
